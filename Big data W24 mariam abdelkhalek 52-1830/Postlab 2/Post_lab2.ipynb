{
 "cells": [
  {
   "cell_type": "markdown",
   "id": "0d6a1809-7bb0-484c-a2f6-bb8af6202e83",
   "metadata": {
    "id": "0d6a1809-7bb0-484c-a2f6-bb8af6202e83"
   },
   "source": [
    "## Post Lab 2 - Analyse US baby names"
   ]
  },
  {
   "cell_type": "markdown",
   "id": "28cb99b4-58e4-4a49-a1a9-02f9d1cfd80b",
   "metadata": {
    "id": "28cb99b4-58e4-4a49-a1a9-02f9d1cfd80b"
   },
   "source": [
    "Task 1 - Load the dataset into HDFS in the root directory. You can do so by executing the following commands to first move the file to the hdfs container then to the hdfs cluster.\n",
    "\n",
    "In the terminal make sure that your current directory has the parquet file directly under it, you can do so doing ls and ensuring the parquet file is listed.\n",
    "- `docker cp baby_names_unclean.parquet namenode-master:/`\n",
    "- `docker exec -it namenode-master hdfs dfs -put -f /baby_names_unclean.parquet hdfs://namenode-master:8020/`\n",
    "\n",
    "You can then verify that the file correctly exists in hdfs by checking the HDFS UI."
   ]
  },
  {
   "cell_type": "markdown",
   "id": "29a2c01c-575c-485d-8b8e-7a04673d2075",
   "metadata": {
    "id": "29a2c01c-575c-485d-8b8e-7a04673d2075"
   },
   "source": [
    "## Load the dataset -  US Baby Names 1880-2017\n",
    "=======================\n",
    "\n",
    "\n",
    "Description: US baby names provided by the SSA.\n",
    "\n",
    "This dataset contains all names used\n",
    "for at least 5 children of either sex during a year.\n",
    "\n",
    "\n",
    "The file is made of `1924665` lines and  4 columns.\n",
    "\n",
    "```\n",
    "|-- name: string (nullable = true)\n",
    "    |-- n: integer (nullable = true)\n",
    "    |-- sex: string (nullable = true)\n",
    "    |-- year: integer (nullable = true)\n",
    "```\n",
    "\n",
    "Each row indicates for a given name, sex, and year the number of babies\n",
    "of the given sex who were given that name during the given year. Names\n",
    "with less than 5 occurrences during the year were not recorded.\n",
    "\n",
    "Ensure that the dataframe has the following schema:\n",
    "\n",
    "    root\n",
    "        |-- name: string (nullable = true)\n",
    "        |-- n: integer (nullable = true)\n",
    "        |-- sex: string (nullable = true)\n",
    "        |-- year: integer (nullable = true)"
   ]
  },
  {
   "cell_type": "markdown",
   "id": "bad21f7f-ee5f-4258-95a7-897f8a5ea4ed",
   "metadata": {
    "id": "bad21f7f-ee5f-4258-95a7-897f8a5ea4ed"
   },
   "source": [
    "## Tasks\n",
    "\n",
    "1. What are the 10 most popular names for Females in year 2000.\n",
    "2. What are the 10 most popular names for Males in year 2000.\n",
    "\n",
    "3. Which year had\n",
    "\n",
    "- a) the most distinct female names\n",
    "\n",
    "- b) the most distinct male names\n",
    "\n",
    "- c) the most distinct names (both male and female)\n",
    "\n",
    "4. In the year 2010, how many names where assigned to both males and females.\n",
    "\n",
    "5. Create a new column that shows the length of each name.\n",
    "\n",
    "6. Create a new column that shows the total number of times the name have been given to a baby across all years.\n",
    "\n",
    "7. Partition your dataframe based on the year the baby was born and write the dataframe to hdfs."
   ]
  },
  {
   "cell_type": "code",
   "execution_count": 3,
   "id": "24d68c79-9960-4699-977c-803c343034f6",
   "metadata": {
    "id": "24d68c79-9960-4699-977c-803c343034f6"
   },
   "outputs": [
    {
     "name": "stderr",
     "output_type": "stream",
     "text": [
      "                                                                                "
     ]
    },
    {
     "name": "stdout",
     "output_type": "stream",
     "text": [
      "root\n",
      " |-- name: string (nullable = true)\n",
      " |-- n: double (nullable = true)\n",
      " |-- sex: string (nullable = true)\n",
      " |-- year: double (nullable = true)\n",
      "\n"
     ]
    },
    {
     "name": "stderr",
     "output_type": "stream",
     "text": [
      "[Stage 4:>                                                          (0 + 1) / 1]"
     ]
    },
    {
     "name": "stdout",
     "output_type": "stream",
     "text": [
      "+----------+-----+---+------+\n",
      "|      name|    n|sex|  year|\n",
      "+----------+-----+---+------+\n",
      "|    Emilia|112.0|  F|1985.0|\n",
      "|     Kelsi|112.0|  F|1985.0|\n",
      "|    Margot|112.0|  F|1985.0|\n",
      "|    Mariam|112.0|  F|1985.0|\n",
      "|  Scarlett|112.0|  F|1985.0|\n",
      "|      Aida|111.0|  F|1985.0|\n",
      "|    Ashlei|111.0|  F|1985.0|\n",
      "|     Greta|111.0|  F|1985.0|\n",
      "|    Jaimee|111.0|  F|1985.0|\n",
      "|     Lorna|111.0|  F|1985.0|\n",
      "|   Rosario|111.0|  F|1985.0|\n",
      "|     Sandi|111.0|  F|1985.0|\n",
      "|   Sharina|111.0|  F|1985.0|\n",
      "|    Tashia|111.0|  F|1985.0|\n",
      "|     Adina|110.0|  F|1985.0|\n",
      "|    Ahsley|110.0|  F|1985.0|\n",
      "|Alessandra|110.0|  F|1985.0|\n",
      "|    Amalia|110.0|  F|1985.0|\n",
      "|    Chelsi|110.0|  F|1985.0|\n",
      "|    Darcie|110.0|  F|1985.0|\n",
      "+----------+-----+---+------+\n",
      "only showing top 20 rows\n",
      "\n"
     ]
    },
    {
     "name": "stderr",
     "output_type": "stream",
     "text": [
      "                                                                                "
     ]
    }
   ],
   "source": [
    "from pyspark.sql import SparkSession\n",
    "\n",
    "# Initialize a Spark session\n",
    "spark = SparkSession.builder.appName(\"US_Baby_Names\").getOrCreate()\n",
    "\n",
    "df = spark.read.options(header=True,inferSchema=True).parquet(\"hdfs://namenode-master/baby_names_unclean.parquet\")\n",
    "\n",
    "df.printSchema()\n",
    "df.show()"
   ]
  },
  {
   "cell_type": "code",
   "execution_count": 4,
   "id": "f294d52e",
   "metadata": {},
   "outputs": [
    {
     "name": "stderr",
     "output_type": "stream",
     "text": [
      "[Stage 7:>                                                          (0 + 1) / 1]"
     ]
    },
    {
     "name": "stdout",
     "output_type": "stream",
     "text": [
      "+---------+-----------+\n",
      "|     name|total_count|\n",
      "+---------+-----------+\n",
      "|    Emily|    25953.0|\n",
      "|   Hannah|    23080.0|\n",
      "|  Madison|    19967.0|\n",
      "|   Ashley|    17997.0|\n",
      "|    Sarah|    17697.0|\n",
      "|   Alexis|    17629.0|\n",
      "| Samantha|    17266.0|\n",
      "|  Jessica|    15709.0|\n",
      "|Elizabeth|    15094.0|\n",
      "|   Taylor|    15078.0|\n",
      "+---------+-----------+\n",
      "\n"
     ]
    },
    {
     "name": "stderr",
     "output_type": "stream",
     "text": [
      "                                                                                "
     ]
    }
   ],
   "source": [
    "#1. What are the 10 most popular names for Females in year 2000.\n",
    "\n",
    "from pyspark.sql import functions as fn\n",
    "\n",
    "df.filter((df.sex == 'F') & (df.year == 2000))\\\n",
    "   .groupBy(df.name)\\\n",
    "   .agg(fn.sum(df.n).alias('total_count'))\\\n",
    "   .orderBy(fn.desc('total_count'))\\\n",
    "   .limit(10)\\\n",
    "   .select('name', 'total_count')\\\n",
    "   .show()"
   ]
  },
  {
   "cell_type": "code",
   "execution_count": 5,
   "id": "fa1ade47",
   "metadata": {},
   "outputs": [
    {
     "name": "stderr",
     "output_type": "stream",
     "text": [
      "[Stage 8:=============================>                             (1 + 1) / 2]"
     ]
    },
    {
     "name": "stdout",
     "output_type": "stream",
     "text": [
      "+-----------+-----------+\n",
      "|       name|total_count|\n",
      "+-----------+-----------+\n",
      "|      Jacob|    34471.0|\n",
      "|    Michael|    32035.0|\n",
      "|    Matthew|    28572.0|\n",
      "|     Joshua|    27538.0|\n",
      "|Christopher|    24931.0|\n",
      "|   Nicholas|    24652.0|\n",
      "|     Andrew|    23639.0|\n",
      "|     Joseph|    22825.0|\n",
      "|     Daniel|    22312.0|\n",
      "|      Tyler|    21503.0|\n",
      "+-----------+-----------+\n",
      "\n"
     ]
    },
    {
     "name": "stderr",
     "output_type": "stream",
     "text": [
      "                                                                                "
     ]
    }
   ],
   "source": [
    "#2. What are the 10 most popular names for Males in year 2000.\n",
    "df.filter((df.sex == 'M') & (df.year == 2000))\\\n",
    "   .groupBy(df.name)\\\n",
    "   .agg(fn.sum(df.n).alias('total_count'))\\\n",
    "   .orderBy(fn.desc('total_count'))\\\n",
    "   .limit(10)\\\n",
    "   .select('name', 'total_count')\\\n",
    "   .show()"
   ]
  },
  {
   "cell_type": "code",
   "execution_count": 6,
   "id": "673c52ab",
   "metadata": {},
   "outputs": [
    {
     "name": "stderr",
     "output_type": "stream",
     "text": [
      "[Stage 13:==============================>                          (7 + 6) / 13]"
     ]
    },
    {
     "name": "stdout",
     "output_type": "stream",
     "text": [
      "+------+\n",
      "|  year|\n",
      "+------+\n",
      "|2007.0|\n",
      "+------+\n",
      "only showing top 1 row\n",
      "\n"
     ]
    },
    {
     "name": "stderr",
     "output_type": "stream",
     "text": [
      "                                                                                "
     ]
    }
   ],
   "source": [
    "#3. Which year had\n",
    "\n",
    "#a) the most distinct female names\n",
    "df.filter(df.sex == 'F')\\\n",
    "   .groupBy(df.year)\\\n",
    "  .agg(fn.countDistinct(df.name).alias('count'))\\\n",
    "  .orderBy(fn.desc('count'))\\\n",
    "  .select(df.year)\\\n",
    "  .show(1)\n",
    "    "
   ]
  },
  {
   "cell_type": "code",
   "execution_count": 7,
   "id": "e8b50ec7",
   "metadata": {},
   "outputs": [
    {
     "name": "stderr",
     "output_type": "stream",
     "text": [
      "[Stage 19:=============================================>            (7 + 2) / 9]"
     ]
    },
    {
     "name": "stdout",
     "output_type": "stream",
     "text": [
      "+------+\n",
      "|  year|\n",
      "+------+\n",
      "|2008.0|\n",
      "+------+\n",
      "only showing top 1 row\n",
      "\n"
     ]
    },
    {
     "name": "stderr",
     "output_type": "stream",
     "text": [
      "                                                                                "
     ]
    }
   ],
   "source": [
    "#b) the most distinct male names\n",
    "df.filter(df.sex == 'M')\\\n",
    "   .groupBy(df.year)\\\n",
    "  .agg(fn.countDistinct(df.name).alias('count'))\\\n",
    "  .orderBy(fn.desc('count'))\\\n",
    "  .select(df.year)\\\n",
    "  .show(1)"
   ]
  },
  {
   "cell_type": "code",
   "execution_count": 8,
   "id": "3821b3fa",
   "metadata": {},
   "outputs": [
    {
     "name": "stderr",
     "output_type": "stream",
     "text": [
      "[Stage 25:===================================>                    (10 + 6) / 16]"
     ]
    },
    {
     "name": "stdout",
     "output_type": "stream",
     "text": [
      "+------+\n",
      "|  year|\n",
      "+------+\n",
      "|2008.0|\n",
      "+------+\n",
      "only showing top 1 row\n",
      "\n"
     ]
    },
    {
     "name": "stderr",
     "output_type": "stream",
     "text": [
      "                                                                                "
     ]
    }
   ],
   "source": [
    "#c) the most distinct names (both male and female)\n",
    "df.groupBy(df.year)\\\n",
    "  .agg(fn.countDistinct(df.name).alias('count'))\\\n",
    "  .orderBy(fn.desc('count'))\\\n",
    "  .select(df.year)\\\n",
    "  .show(1)"
   ]
  },
  {
   "cell_type": "code",
   "execution_count": 9,
   "id": "ea18147f",
   "metadata": {},
   "outputs": [
    {
     "name": "stderr",
     "output_type": "stream",
     "text": [
      "                                                                                "
     ]
    },
    {
     "data": {
      "text/plain": [
       "2443"
      ]
     },
     "execution_count": 9,
     "metadata": {},
     "output_type": "execute_result"
    }
   ],
   "source": [
    "#4. In the year 2010, how many names where assigned to both males and females.\n",
    "from pyspark.sql.functions import col\n",
    "df.filter(df.year== '2010')\\\n",
    "   .groupBy(df.name)\\\n",
    "  .agg(fn.countDistinct(df.sex).alias('count of name assigned to both males and females'))\\\n",
    "  .where(fn.col('count of name assigned to both males and females')== 2)\\\n",
    "  .count()\n",
    "  "
   ]
  },
  {
   "cell_type": "code",
   "execution_count": 10,
   "id": "c30d6f14",
   "metadata": {},
   "outputs": [
    {
     "name": "stdout",
     "output_type": "stream",
     "text": [
      "+----------+-----+---+------+------+\n",
      "|      name|    n|sex|  year|length|\n",
      "+----------+-----+---+------+------+\n",
      "|    Emilia|112.0|  F|1985.0|     6|\n",
      "|     Kelsi|112.0|  F|1985.0|     5|\n",
      "|    Margot|112.0|  F|1985.0|     6|\n",
      "|    Mariam|112.0|  F|1985.0|     6|\n",
      "|  Scarlett|112.0|  F|1985.0|     8|\n",
      "|      Aida|111.0|  F|1985.0|     4|\n",
      "|    Ashlei|111.0|  F|1985.0|     6|\n",
      "|     Greta|111.0|  F|1985.0|     5|\n",
      "|    Jaimee|111.0|  F|1985.0|     6|\n",
      "|     Lorna|111.0|  F|1985.0|     5|\n",
      "|   Rosario|111.0|  F|1985.0|     7|\n",
      "|     Sandi|111.0|  F|1985.0|     5|\n",
      "|   Sharina|111.0|  F|1985.0|     7|\n",
      "|    Tashia|111.0|  F|1985.0|     6|\n",
      "|     Adina|110.0|  F|1985.0|     5|\n",
      "|    Ahsley|110.0|  F|1985.0|     6|\n",
      "|Alessandra|110.0|  F|1985.0|    10|\n",
      "|    Amalia|110.0|  F|1985.0|     6|\n",
      "|    Chelsi|110.0|  F|1985.0|     6|\n",
      "|    Darcie|110.0|  F|1985.0|     6|\n",
      "+----------+-----+---+------+------+\n",
      "only showing top 20 rows\n",
      "\n"
     ]
    }
   ],
   "source": [
    "#5. Create a new column that shows the length of each name.\n",
    "from pyspark.sql.functions import length\n",
    "df= df.withColumn('length',length(df.name))\n",
    "df.show()\n",
    "    \n"
   ]
  },
  {
   "cell_type": "code",
   "execution_count": 43,
   "id": "c34d61df",
   "metadata": {
    "scrolled": true
   },
   "outputs": [
    {
     "name": "stdout",
     "output_type": "stream",
     "text": [
      "+------+----+---+------+------+---------------------+\n",
      "|  name|   n|sex|  year|length|total_number_of_times|\n",
      "+------+----+---+------+------+---------------------+\n",
      "|  Aada| 5.0|  F|2015.0|     4|                  5.0|\n",
      "| Aadit|13.0|  M|2003.0|     5|                359.0|\n",
      "| Aadit|22.0|  M|2004.0|     5|                359.0|\n",
      "| Aadit|15.0|  M|2005.0|     5|                359.0|\n",
      "| Aadit|17.0|  M|2006.0|     5|                359.0|\n",
      "| Aadit|31.0|  M|2007.0|     5|                359.0|\n",
      "| Aadit|24.0|  M|2008.0|     5|                359.0|\n",
      "| Aadit|12.0|  M|2009.0|     5|                359.0|\n",
      "| Aadit|23.0|  M|2010.0|     5|                359.0|\n",
      "| Aadit|24.0|  M|2011.0|     5|                359.0|\n",
      "| Aadit|22.0|  M|2012.0|     5|                359.0|\n",
      "| Aadit|33.0|  M|2013.0|     5|                359.0|\n",
      "| Aadit|31.0|  M|2014.0|     5|                359.0|\n",
      "| Aadit|23.0|  M|2015.0|     5|                359.0|\n",
      "| Aadit|23.0|  M|2016.0|     5|                359.0|\n",
      "| Aadit|46.0|  M|2017.0|     5|                359.0|\n",
      "|Aadith| 5.0|  M|2003.0|     6|                 76.0|\n",
      "|Aadith| 7.0|  M|2007.0|     6|                 76.0|\n",
      "|Aadith| 5.0|  M|2008.0|     6|                 76.0|\n",
      "|Aadith| 6.0|  M|2012.0|     6|                 76.0|\n",
      "+------+----+---+------+------+---------------------+\n",
      "only showing top 20 rows\n",
      "\n"
     ]
    }
   ],
   "source": [
    "#6. Create a new column that shows the total number of times the name have been given to a baby across all years.\n",
    "from pyspark.sql.functions import sum as _sum\n",
    "from pyspark.sql.window import Window\n",
    "df= df.withColumn(\n",
    "'total_number_of_times',\n",
    " _sum(df.n).over(Window.partitionBy(df.name))\n",
    ")\n",
    "df.show()"
   ]
  },
  {
   "cell_type": "code",
   "execution_count": 12,
   "id": "df558f61",
   "metadata": {},
   "outputs": [
    {
     "name": "stderr",
     "output_type": "stream",
     "text": [
      "                                                                                "
     ]
    }
   ],
   "source": [
    "#7. Partition your dataframe based on the year the baby was born and write the dataframe to hdfs.\n",
    "df.write.partitionBy(\"year\").parquet(\"hdfs://namenode-master/baby_names_clean.parquet\")"
   ]
  },
  {
   "cell_type": "code",
   "execution_count": null,
   "id": "e60ccb88",
   "metadata": {},
   "outputs": [],
   "source": [
    "\n"
   ]
  },
  {
   "cell_type": "code",
   "execution_count": null,
   "id": "4a813a2f",
   "metadata": {},
   "outputs": [],
   "source": []
  },
  {
   "cell_type": "code",
   "execution_count": null,
   "id": "1fd9128d-baf1-4034-a66c-48915a61860c",
   "metadata": {},
   "outputs": [],
   "source": []
  }
 ],
 "metadata": {
  "colab": {
   "provenance": []
  },
  "kernelspec": {
   "display_name": "Python 3 (ipykernel)",
   "language": "python",
   "name": "python3"
  },
  "language_info": {
   "codemirror_mode": {
    "name": "ipython",
    "version": 3
   },
   "file_extension": ".py",
   "mimetype": "text/x-python",
   "name": "python",
   "nbconvert_exporter": "python",
   "pygments_lexer": "ipython3",
   "version": "3.10.16"
  }
 },
 "nbformat": 4,
 "nbformat_minor": 5
}
