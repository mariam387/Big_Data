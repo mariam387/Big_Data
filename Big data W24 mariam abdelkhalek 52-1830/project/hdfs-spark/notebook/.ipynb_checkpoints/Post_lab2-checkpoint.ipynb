{
 "cells": [
  {
   "cell_type": "markdown",
   "id": "0d6a1809-7bb0-484c-a2f6-bb8af6202e83",
   "metadata": {
    "id": "0d6a1809-7bb0-484c-a2f6-bb8af6202e83"
   },
   "source": [
    "## Post Lab 2 - Analyse US baby names"
   ]
  },
  {
   "cell_type": "markdown",
   "id": "28cb99b4-58e4-4a49-a1a9-02f9d1cfd80b",
   "metadata": {
    "id": "28cb99b4-58e4-4a49-a1a9-02f9d1cfd80b"
   },
   "source": [
    "Task 1 - Load the dataset into HDFS in the root directory. You can do so by executing the following commands to first move the file to the hdfs container then to the hdfs cluster.\n",
    "\n",
    "In the terminal make sure that your current directory has the parquet file directly under it, you can do so doing ls and ensuring the parquet file is listed.\n",
    "- `docker cp baby_names_unclean.parquet namenode-master:/`\n",
    "- `docker exec -it namenode-master hdfs dfs -put -f /baby_names_unclean.parquet hdfs://namenode-master:8020/`\n",
    "\n",
    "You can then verify that the file correctly exists in hdfs by checking the HDFS UI."
   ]
  },
  {
   "cell_type": "markdown",
   "id": "29a2c01c-575c-485d-8b8e-7a04673d2075",
   "metadata": {
    "id": "29a2c01c-575c-485d-8b8e-7a04673d2075"
   },
   "source": [
    "## Load the dataset -  US Baby Names 1880-2017\n",
    "=======================\n",
    "\n",
    "\n",
    "Description: US baby names provided by the SSA.\n",
    "\n",
    "This dataset contains all names used\n",
    "for at least 5 children of either sex during a year.\n",
    "\n",
    "\n",
    "The file is made of `1924665` lines and  4 columns.\n",
    "\n",
    "```\n",
    "|-- name: string (nullable = true)\n",
    "    |-- n: integer (nullable = true)\n",
    "    |-- sex: string (nullable = true)\n",
    "    |-- year: integer (nullable = true)\n",
    "```\n",
    "\n",
    "Each row indicates for a given name, sex, and year the number of babies\n",
    "of the given sex who were given that name during the given year. Names\n",
    "with less than 5 occurrences during the year were not recorded.\n",
    "\n",
    "Ensure that the dataframe has the following schema:\n",
    "\n",
    "    root\n",
    "        |-- name: string (nullable = true)\n",
    "        |-- n: integer (nullable = true)\n",
    "        |-- sex: string (nullable = true)\n",
    "        |-- year: integer (nullable = true)"
   ]
  },
  {
   "cell_type": "markdown",
   "id": "bad21f7f-ee5f-4258-95a7-897f8a5ea4ed",
   "metadata": {
    "id": "bad21f7f-ee5f-4258-95a7-897f8a5ea4ed"
   },
   "source": [
    "## Tasks\n",
    "\n",
    "1. What are the 10 most popular names for Females in year 2000.\n",
    "2. What are the 10 most popular names for Males in year 2000.\n",
    "\n",
    "3. Which year had\n",
    "\n",
    "- a) the most distinct female names\n",
    "\n",
    "- b) the most distinct male names\n",
    "\n",
    "- c) the most distinct names (both male and female)\n",
    "\n",
    "4. In the year 2010, how many names where assigned to both males and females.\n",
    "\n",
    "5. Create a new column that shows the length of each name.\n",
    "\n",
    "6. Create a new column that shows the total number of times the name have been given to a baby across all years.\n",
    "\n",
    "7. Partition your dataframe based on the year the baby was born and write the dataframe to hdfs."
   ]
  },
  {
   "cell_type": "code",
   "execution_count": null,
   "id": "24d68c79-9960-4699-977c-803c343034f6",
   "metadata": {
    "id": "24d68c79-9960-4699-977c-803c343034f6"
   },
   "outputs": [],
   "source": []
  }
 ],
 "metadata": {
  "colab": {
   "provenance": []
  },
  "kernelspec": {
   "display_name": "Python 3 (ipykernel)",
   "language": "python",
   "name": "python3"
  },
  "language_info": {
   "codemirror_mode": {
    "name": "ipython",
    "version": 3
   },
   "file_extension": ".py",
   "mimetype": "text/x-python",
   "name": "python",
   "nbconvert_exporter": "python",
   "pygments_lexer": "ipython3",
   "version": "3.11.4"
  }
 },
 "nbformat": 4,
 "nbformat_minor": 5
}
