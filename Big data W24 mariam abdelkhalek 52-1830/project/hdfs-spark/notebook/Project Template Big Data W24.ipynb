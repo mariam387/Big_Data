{
 "cells": [
  {
   "cell_type": "markdown",
   "id": "FRyzL0Kt5P5D",
   "metadata": {
    "id": "FRyzL0Kt5P5D"
   },
   "source": [
    "# Project - Product analysis in Spark.\n",
    "# Deadline - 8th of February, 2025"
   ]
  },
  {
   "cell_type": "markdown",
   "id": "qB5yJfVR5zz8",
   "metadata": {
    "id": "qB5yJfVR5zz8"
   },
   "source": [
    "## Name -"
   ]
  },
  {
   "cell_type": "markdown",
   "id": "h_1f7wHw5P5E",
   "metadata": {
    "id": "h_1f7wHw5P5E"
   },
   "source": [
    "## Objective\n",
    "The objective of this project is to analyse various datasets in spark about commercial products and rating of e-commerce website NewChic.com.\n",
    "## Overview of the datasets\n",
    "For this project there are three csv files one for each product ( Shoe products, jewelry products and accessories).The datasets are available in the zip folder with th project.I advise you have the notebook and all the csv files in the same directory, so that it is easier when you are loading the csv files to pass in the csv files directly since they will be in the same directory as the notebook.<br>\n",
    "There are 22 features in each dataset. The main features are\n",
    "- Category ( men/accessory/jewelry/etc)\n",
    "- Subcategory type of catgeory\n",
    "- name of the product\n",
    "- current price ==> price listed on the website  \n",
    "- raw price ==> total price of the product before any discounts(i.e original price of the product)\n",
    "- discount\n",
    "- Currency ( currency of which the price listed in)\n",
    "- likes count ==> popularity of the product\n",
    "- isnew ==> tells whether the product is used or not (Binary value true or false)\n"
   ]
  },
  {
   "cell_type": "markdown",
   "id": "QXfP0NAK5P5F",
   "metadata": {
    "id": "QXfP0NAK5P5F"
   },
   "source": [
    "# Tasks -\n",
    "## First import the necessary packages and start your spark session"
   ]
  },
  {
   "cell_type": "code",
   "execution_count": 1,
   "id": "Wm2LTb-F5P5F",
   "metadata": {
    "id": "Wm2LTb-F5P5F"
   },
   "outputs": [
    {
     "name": "stderr",
     "output_type": "stream",
     "text": [
      "Setting default log level to \"WARN\".\n",
      "To adjust logging level use sc.setLogLevel(newLevel). For SparkR, use setLogLevel(newLevel).\n",
      "25/01/28 15:00:22 WARN NativeCodeLoader: Unable to load native-hadoop library for your platform... using builtin-java classes where applicable\n"
     ]
    }
   ],
   "source": [
    "from pyspark import SparkConf, SparkContext\n",
    "from pyspark.sql import SparkSession\n",
    "\n",
    "spark = (SparkSession\n",
    "    .builder\n",
    "    .appName(\"project\")\n",
    "    .master(\"local[*]\")\n",
    "    .getOrCreate()\n",
    ")\n",
    "sc = spark.sparkContext"
   ]
  },
  {
   "cell_type": "code",
   "execution_count": 2,
   "id": "IYkYRunV5P5F",
   "metadata": {
    "id": "IYkYRunV5P5F"
   },
   "outputs": [
    {
     "name": "stdout",
     "output_type": "stream",
     "text": [
      "\u001b[0m\u001b[01;32m'Project Template Big Data W24.ipynb'\u001b[0m*   \u001b[01;32mcommands.txt\u001b[0m*   \u001b[01;32mshoes.csv\u001b[0m*\n",
      " \u001b[01;32maccessories.csv\u001b[0m*                        \u001b[01;32mjewelry.csv\u001b[0m*\n"
     ]
    }
   ],
   "source": [
    "%ls"
   ]
  },
  {
   "cell_type": "markdown",
   "id": "7XAeqEGw5P5G",
   "metadata": {
    "id": "7XAeqEGw5P5G"
   },
   "source": [
    "## load the 3 datasets.<br> Note: You are free to decide how to load the csv files, they don't have to be in one dataframe. <br><br>syntax - `spark.load.options().csv(path)`<br><br> It is important to note that if you load a csv file directly without specifying any additional parameters in options the following will happen.<br> a) Spark will name all the Columns c0,c1,c2,etc; to avoid this you can set header = True to make the column names same as those in the csv file.<br>b) the schema  of the dataframe will be set by spark where all the columns will be of type string , to avoid this set inferSchema = True so that the column types will be inferred from the data in the csv file.<br> Example -  \n"
   ]
  },
  {
   "cell_type": "markdown",
   "id": "OKsKUD6l5P5G",
   "metadata": {
    "ExecuteTime": {
     "end_time": "2022-01-17T13:27:46.671179Z",
     "start_time": "2022-01-17T13:27:46.529230Z"
    },
    "id": "OKsKUD6l5P5G"
   },
   "source": [
    "df = spark.read.options(header=True,inferSchema=True).csv(path)"
   ]
  },
  {
   "cell_type": "code",
   "execution_count": 3,
   "id": "vJJ1xcQr5P5G",
   "metadata": {
    "id": "vJJ1xcQr5P5G"
   },
   "outputs": [
    {
     "name": "stderr",
     "output_type": "stream",
     "text": [
      "                                                                                "
     ]
    }
   ],
   "source": [
    "df_shoes = spark.read.options(header=True,inferSchema=True).csv(\"hdfs://namenode-master/shoes.csv\")"
   ]
  },
  {
   "cell_type": "code",
   "execution_count": 4,
   "id": "hK1_cQ1r5P5G",
   "metadata": {
    "id": "hK1_cQ1r5P5G"
   },
   "outputs": [],
   "source": [
    "df_jewelry = spark.read.options(header=True,inferSchema=True).csv(\"hdfs://namenode-master/jewelry.csv\")"
   ]
  },
  {
   "cell_type": "code",
   "execution_count": 5,
   "id": "fd1af6ad",
   "metadata": {},
   "outputs": [],
   "source": [
    "df_accessories= spark.read.options(header=True,inferSchema=True).csv(\"hdfs://namenode-master/accessories.csv\")"
   ]
  },
  {
   "cell_type": "markdown",
   "id": "PrChWyQg5P5G",
   "metadata": {
    "id": "PrChWyQg5P5G"
   },
   "source": [
    "## Print the schema"
   ]
  },
  {
   "cell_type": "code",
   "execution_count": 6,
   "id": "7wG2AScc5P5H",
   "metadata": {
    "id": "7wG2AScc5P5H"
   },
   "outputs": [
    {
     "name": "stdout",
     "output_type": "stream",
     "text": [
      "root\n",
      " |-- category: string (nullable = true)\n",
      " |-- subcategory: string (nullable = true)\n",
      " |-- name: string (nullable = true)\n",
      " |-- current_price: double (nullable = true)\n",
      " |-- raw_price: double (nullable = true)\n",
      " |-- currency: string (nullable = true)\n",
      " |-- discount: integer (nullable = true)\n",
      " |-- likes_count: integer (nullable = true)\n",
      " |-- is_new: boolean (nullable = true)\n",
      " |-- brand: string (nullable = true)\n",
      " |-- brand_url: string (nullable = true)\n",
      " |-- codCountry: string (nullable = true)\n",
      " |-- variation_0_color: string (nullable = true)\n",
      " |-- variation_1_color: string (nullable = true)\n",
      " |-- variation_0_thumbnail: string (nullable = true)\n",
      " |-- variation_0_image: string (nullable = true)\n",
      " |-- variation_1_thumbnail: string (nullable = true)\n",
      " |-- variation_1_image: string (nullable = true)\n",
      " |-- image_url: string (nullable = true)\n",
      " |-- url: string (nullable = true)\n",
      " |-- id: integer (nullable = true)\n",
      " |-- model: string (nullable = true)\n",
      "\n"
     ]
    }
   ],
   "source": [
    "df_shoes.printSchema()"
   ]
  },
  {
   "cell_type": "code",
   "execution_count": 7,
   "id": "a0e24d9b",
   "metadata": {},
   "outputs": [
    {
     "name": "stdout",
     "output_type": "stream",
     "text": [
      "root\n",
      " |-- category: string (nullable = true)\n",
      " |-- subcategory: string (nullable = true)\n",
      " |-- name: string (nullable = true)\n",
      " |-- current_price: double (nullable = true)\n",
      " |-- raw_price: double (nullable = true)\n",
      " |-- currency: string (nullable = true)\n",
      " |-- discount: integer (nullable = true)\n",
      " |-- likes_count: integer (nullable = true)\n",
      " |-- is_new: boolean (nullable = true)\n",
      " |-- brand: string (nullable = true)\n",
      " |-- brand_url: string (nullable = true)\n",
      " |-- codCountry: string (nullable = true)\n",
      " |-- variation_0_color: string (nullable = true)\n",
      " |-- variation_1_color: string (nullable = true)\n",
      " |-- variation_0_thumbnail: string (nullable = true)\n",
      " |-- variation_0_image: string (nullable = true)\n",
      " |-- variation_1_thumbnail: string (nullable = true)\n",
      " |-- variation_1_image: string (nullable = true)\n",
      " |-- image_url: string (nullable = true)\n",
      " |-- url: string (nullable = true)\n",
      " |-- id: integer (nullable = true)\n",
      " |-- model: string (nullable = true)\n",
      "\n"
     ]
    }
   ],
   "source": [
    "df_accessories.printSchema()"
   ]
  },
  {
   "cell_type": "code",
   "execution_count": 8,
   "id": "B6XRWkrG5P5H",
   "metadata": {
    "id": "B6XRWkrG5P5H"
   },
   "outputs": [
    {
     "name": "stdout",
     "output_type": "stream",
     "text": [
      "root\n",
      " |-- category: string (nullable = true)\n",
      " |-- subcategory: string (nullable = true)\n",
      " |-- name: string (nullable = true)\n",
      " |-- current_price: double (nullable = true)\n",
      " |-- raw_price: double (nullable = true)\n",
      " |-- currency: string (nullable = true)\n",
      " |-- discount: integer (nullable = true)\n",
      " |-- likes_count: integer (nullable = true)\n",
      " |-- is_new: boolean (nullable = true)\n",
      " |-- brand: string (nullable = true)\n",
      " |-- brand_url: string (nullable = true)\n",
      " |-- codCountry: string (nullable = true)\n",
      " |-- variation_0_color: string (nullable = true)\n",
      " |-- variation_1_color: string (nullable = true)\n",
      " |-- variation_0_thumbnail: string (nullable = true)\n",
      " |-- variation_0_image: string (nullable = true)\n",
      " |-- variation_1_thumbnail: string (nullable = true)\n",
      " |-- variation_1_image: string (nullable = true)\n",
      " |-- image_url: string (nullable = true)\n",
      " |-- url: string (nullable = true)\n",
      " |-- id: integer (nullable = true)\n",
      " |-- model: string (nullable = true)\n",
      "\n"
     ]
    }
   ],
   "source": [
    "df_jewelry.printSchema()"
   ]
  },
  {
   "cell_type": "code",
   "execution_count": 9,
   "id": "874aa4b8",
   "metadata": {},
   "outputs": [
    {
     "name": "stderr",
     "output_type": "stream",
     "text": [
      "                                                                                "
     ]
    },
    {
     "data": {
      "text/html": [
       "<div>\n",
       "<style scoped>\n",
       "    .dataframe tbody tr th:only-of-type {\n",
       "        vertical-align: middle;\n",
       "    }\n",
       "\n",
       "    .dataframe tbody tr th {\n",
       "        vertical-align: top;\n",
       "    }\n",
       "\n",
       "    .dataframe thead th {\n",
       "        text-align: right;\n",
       "    }\n",
       "</style>\n",
       "<table border=\"1\" class=\"dataframe\">\n",
       "  <thead>\n",
       "    <tr style=\"text-align: right;\">\n",
       "      <th></th>\n",
       "      <th>category</th>\n",
       "      <th>subcategory</th>\n",
       "      <th>name</th>\n",
       "      <th>current_price</th>\n",
       "      <th>raw_price</th>\n",
       "      <th>currency</th>\n",
       "      <th>discount</th>\n",
       "      <th>likes_count</th>\n",
       "      <th>is_new</th>\n",
       "      <th>brand</th>\n",
       "      <th>...</th>\n",
       "      <th>variation_0_color</th>\n",
       "      <th>variation_1_color</th>\n",
       "      <th>variation_0_thumbnail</th>\n",
       "      <th>variation_0_image</th>\n",
       "      <th>variation_1_thumbnail</th>\n",
       "      <th>variation_1_image</th>\n",
       "      <th>image_url</th>\n",
       "      <th>url</th>\n",
       "      <th>id</th>\n",
       "      <th>model</th>\n",
       "    </tr>\n",
       "  </thead>\n",
       "  <tbody>\n",
       "    <tr>\n",
       "      <th>0</th>\n",
       "      <td>jewelry</td>\n",
       "      <td>Montres connectées</td>\n",
       "      <td>Global Version Xiaomi Mi bande 5</td>\n",
       "      <td>42.99</td>\n",
       "      <td>99.99</td>\n",
       "      <td>USD</td>\n",
       "      <td>57</td>\n",
       "      <td>27</td>\n",
       "      <td>False</td>\n",
       "      <td>XIAOMI</td>\n",
       "      <td>...</td>\n",
       "      <td>Noir</td>\n",
       "      <td>None</td>\n",
       "      <td>https://imgaz1.chiccdn.com/thumb/list_grid/oau...</td>\n",
       "      <td>https://imgaz1.chiccdn.com/thumb/view/oaupload...</td>\n",
       "      <td>None</td>\n",
       "      <td>None</td>\n",
       "      <td>https://imgaz1.chiccdn.com/thumb/view/oaupload...</td>\n",
       "      <td>https://fr.newchic.com/xiaomi-smart-watches-49...</td>\n",
       "      <td>1692610</td>\n",
       "      <td>SKUE46513</td>\n",
       "    </tr>\n",
       "    <tr>\n",
       "      <th>1</th>\n",
       "      <td>jewelry</td>\n",
       "      <td>Colliers</td>\n",
       "      <td>Collier long pendentif géométrique</td>\n",
       "      <td>17.61</td>\n",
       "      <td>33.55</td>\n",
       "      <td>USD</td>\n",
       "      <td>48</td>\n",
       "      <td>518</td>\n",
       "      <td>False</td>\n",
       "      <td>None</td>\n",
       "      <td>...</td>\n",
       "      <td>None</td>\n",
       "      <td>None</td>\n",
       "      <td>None</td>\n",
       "      <td>None</td>\n",
       "      <td>None</td>\n",
       "      <td>None</td>\n",
       "      <td>https://imgaz1.chiccdn.com/thumb/view/oaupload...</td>\n",
       "      <td>https://fr.newchic.com/necklaces-4047/p-151378...</td>\n",
       "      <td>1513785</td>\n",
       "      <td>SKUC71348</td>\n",
       "    </tr>\n",
       "    <tr>\n",
       "      <th>2</th>\n",
       "      <td>jewelry</td>\n",
       "      <td>Montres connectées</td>\n",
       "      <td>Montre intelligente ECG EKG</td>\n",
       "      <td>66.29</td>\n",
       "      <td>166.14</td>\n",
       "      <td>USD</td>\n",
       "      <td>60</td>\n",
       "      <td>505</td>\n",
       "      <td>False</td>\n",
       "      <td>Bakeey</td>\n",
       "      <td>...</td>\n",
       "      <td>Rose</td>\n",
       "      <td>rouge</td>\n",
       "      <td>https://imgaz1.chiccdn.com/thumb/list_grid/oau...</td>\n",
       "      <td>https://imgaz1.chiccdn.com/thumb/view/oaupload...</td>\n",
       "      <td>https://imgaz1.chiccdn.com/thumb/list_grid/oau...</td>\n",
       "      <td>https://imgaz1.chiccdn.com/thumb/view/oaupload...</td>\n",
       "      <td>https://imgaz1.chiccdn.com/thumb/view/oaupload...</td>\n",
       "      <td>https://fr.newchic.com/bakeey-smart-watches-49...</td>\n",
       "      <td>1409396</td>\n",
       "      <td>SKUA96208</td>\n",
       "    </tr>\n",
       "    <tr>\n",
       "      <th>3</th>\n",
       "      <td>jewelry</td>\n",
       "      <td>Colliers</td>\n",
       "      <td>Collier à pampilles blanc</td>\n",
       "      <td>9.99</td>\n",
       "      <td>24.99</td>\n",
       "      <td>USD</td>\n",
       "      <td>60</td>\n",
       "      <td>140</td>\n",
       "      <td>False</td>\n",
       "      <td>None</td>\n",
       "      <td>...</td>\n",
       "      <td>None</td>\n",
       "      <td>None</td>\n",
       "      <td>None</td>\n",
       "      <td>None</td>\n",
       "      <td>None</td>\n",
       "      <td>None</td>\n",
       "      <td>https://imgaz1.chiccdn.com/thumb/view/oaupload...</td>\n",
       "      <td>https://fr.newchic.com/necklaces-4047/p-168972...</td>\n",
       "      <td>1689722</td>\n",
       "      <td>SKUF37878</td>\n",
       "    </tr>\n",
       "    <tr>\n",
       "      <th>4</th>\n",
       "      <td>jewelry</td>\n",
       "      <td>Boucles d'oreilles</td>\n",
       "      <td>Clips d'oreilles en verre gemme</td>\n",
       "      <td>5.99</td>\n",
       "      <td>10.99</td>\n",
       "      <td>USD</td>\n",
       "      <td>46</td>\n",
       "      <td>107</td>\n",
       "      <td>False</td>\n",
       "      <td>None</td>\n",
       "      <td>...</td>\n",
       "      <td>None</td>\n",
       "      <td>None</td>\n",
       "      <td>None</td>\n",
       "      <td>None</td>\n",
       "      <td>None</td>\n",
       "      <td>None</td>\n",
       "      <td>https://imgaz1.chiccdn.com/thumb/view/oaupload...</td>\n",
       "      <td>https://fr.newchic.com/earrings-4041/p-1674308...</td>\n",
       "      <td>1674308</td>\n",
       "      <td>SKUE92041</td>\n",
       "    </tr>\n",
       "    <tr>\n",
       "      <th>...</th>\n",
       "      <td>...</td>\n",
       "      <td>...</td>\n",
       "      <td>...</td>\n",
       "      <td>...</td>\n",
       "      <td>...</td>\n",
       "      <td>...</td>\n",
       "      <td>...</td>\n",
       "      <td>...</td>\n",
       "      <td>...</td>\n",
       "      <td>...</td>\n",
       "      <td>...</td>\n",
       "      <td>...</td>\n",
       "      <td>...</td>\n",
       "      <td>...</td>\n",
       "      <td>...</td>\n",
       "      <td>...</td>\n",
       "      <td>...</td>\n",
       "      <td>...</td>\n",
       "      <td>...</td>\n",
       "      <td>...</td>\n",
       "      <td>...</td>\n",
       "    </tr>\n",
       "    <tr>\n",
       "      <th>4848</th>\n",
       "      <td>jewelry</td>\n",
       "      <td>Bracelets de cheville</td>\n",
       "      <td>Bracelet de cheville Bohemian Starfish</td>\n",
       "      <td>10.99</td>\n",
       "      <td>20.00</td>\n",
       "      <td>USD</td>\n",
       "      <td>45</td>\n",
       "      <td>190</td>\n",
       "      <td>False</td>\n",
       "      <td>None</td>\n",
       "      <td>...</td>\n",
       "      <td>None</td>\n",
       "      <td>None</td>\n",
       "      <td>None</td>\n",
       "      <td>None</td>\n",
       "      <td>None</td>\n",
       "      <td>None</td>\n",
       "      <td>https://imgaz1.chiccdn.com/thumb/view/oaupload...</td>\n",
       "      <td>https://fr.newchic.com/anklets-4042/p-1491303....</td>\n",
       "      <td>1491303</td>\n",
       "      <td>SKUC31881</td>\n",
       "    </tr>\n",
       "    <tr>\n",
       "      <th>4849</th>\n",
       "      <td>jewelry</td>\n",
       "      <td>Bracelets pour homme</td>\n",
       "      <td>Bracelet pour homme creux avec pendentif guitare</td>\n",
       "      <td>18.68</td>\n",
       "      <td>39.15</td>\n",
       "      <td>USD</td>\n",
       "      <td>52</td>\n",
       "      <td>36</td>\n",
       "      <td>False</td>\n",
       "      <td>None</td>\n",
       "      <td>...</td>\n",
       "      <td>Noir</td>\n",
       "      <td>None</td>\n",
       "      <td>https://imgaz1.chiccdn.com/thumb/list_grid/oau...</td>\n",
       "      <td>https://imgaz1.chiccdn.com/thumb/view/oaupload...</td>\n",
       "      <td>None</td>\n",
       "      <td>None</td>\n",
       "      <td>https://imgaz1.chiccdn.com/thumb/view/oaupload...</td>\n",
       "      <td>https://fr.newchic.com/mens-bracelets-4082/p-1...</td>\n",
       "      <td>1591320</td>\n",
       "      <td>SKUD63235</td>\n",
       "    </tr>\n",
       "    <tr>\n",
       "      <th>4850</th>\n",
       "      <td>jewelry</td>\n",
       "      <td>Boucles d'oreilles</td>\n",
       "      <td>Boucles d'oreilles en or blanc en zircon</td>\n",
       "      <td>20.82</td>\n",
       "      <td>36.72</td>\n",
       "      <td>USD</td>\n",
       "      <td>43</td>\n",
       "      <td>337</td>\n",
       "      <td>False</td>\n",
       "      <td>None</td>\n",
       "      <td>...</td>\n",
       "      <td>Comme image</td>\n",
       "      <td>None</td>\n",
       "      <td>https://imgaz1.chiccdn.com/thumb/list_grid/oau...</td>\n",
       "      <td>https://imgaz1.chiccdn.com/thumb/view/oaupload...</td>\n",
       "      <td>None</td>\n",
       "      <td>None</td>\n",
       "      <td>https://imgaz1.chiccdn.com/thumb/view/oaupload...</td>\n",
       "      <td>https://fr.newchic.com/earrings-4041/p-1289528...</td>\n",
       "      <td>1289528</td>\n",
       "      <td>SKU913933</td>\n",
       "    </tr>\n",
       "    <tr>\n",
       "      <th>4851</th>\n",
       "      <td>jewelry</td>\n",
       "      <td>Bracelets pour homme</td>\n",
       "      <td>Bracelets Vintage en Cuir Vagues</td>\n",
       "      <td>19.32</td>\n",
       "      <td>36.80</td>\n",
       "      <td>USD</td>\n",
       "      <td>48</td>\n",
       "      <td>190</td>\n",
       "      <td>False</td>\n",
       "      <td>None</td>\n",
       "      <td>...</td>\n",
       "      <td>marron</td>\n",
       "      <td>None</td>\n",
       "      <td>https://imgaz1.chiccdn.com/thumb/list_grid/oau...</td>\n",
       "      <td>https://imgaz1.chiccdn.com/thumb/view/oaupload...</td>\n",
       "      <td>None</td>\n",
       "      <td>None</td>\n",
       "      <td>https://imgaz1.chiccdn.com/thumb/view/oaupload...</td>\n",
       "      <td>https://fr.newchic.com/mens-bracelets-4082/p-1...</td>\n",
       "      <td>1342283</td>\n",
       "      <td>SKUA21003</td>\n",
       "    </tr>\n",
       "    <tr>\n",
       "      <th>4852</th>\n",
       "      <td>jewelry</td>\n",
       "      <td>Bracelets</td>\n",
       "      <td>Bracelet en cuir de chat en alliage</td>\n",
       "      <td>7.44</td>\n",
       "      <td>16.59</td>\n",
       "      <td>USD</td>\n",
       "      <td>55</td>\n",
       "      <td>197</td>\n",
       "      <td>False</td>\n",
       "      <td>None</td>\n",
       "      <td>...</td>\n",
       "      <td>Or</td>\n",
       "      <td>argent</td>\n",
       "      <td>https://imgaz1.chiccdn.com/thumb/list_grid/oau...</td>\n",
       "      <td>https://imgaz1.chiccdn.com/thumb/view/oaupload...</td>\n",
       "      <td>https://imgaz1.chiccdn.com/thumb/list_grid/oau...</td>\n",
       "      <td>https://imgaz1.chiccdn.com/thumb/view/oaupload...</td>\n",
       "      <td>https://imgaz1.chiccdn.com/thumb/view/oaupload...</td>\n",
       "      <td>https://fr.newchic.com/bracelets-4043/p-159528...</td>\n",
       "      <td>1595288</td>\n",
       "      <td>SKUD83147</td>\n",
       "    </tr>\n",
       "  </tbody>\n",
       "</table>\n",
       "<p>4853 rows × 22 columns</p>\n",
       "</div>"
      ],
      "text/plain": [
       "     category            subcategory  \\\n",
       "0     jewelry     Montres connectées   \n",
       "1     jewelry               Colliers   \n",
       "2     jewelry     Montres connectées   \n",
       "3     jewelry               Colliers   \n",
       "4     jewelry     Boucles d'oreilles   \n",
       "...       ...                    ...   \n",
       "4848  jewelry  Bracelets de cheville   \n",
       "4849  jewelry   Bracelets pour homme   \n",
       "4850  jewelry     Boucles d'oreilles   \n",
       "4851  jewelry   Bracelets pour homme   \n",
       "4852  jewelry              Bracelets   \n",
       "\n",
       "                                                   name  current_price  \\\n",
       "0                      Global Version Xiaomi Mi bande 5          42.99   \n",
       "1                    Collier long pendentif géométrique          17.61   \n",
       "2                           Montre intelligente ECG EKG          66.29   \n",
       "3                             Collier à pampilles blanc           9.99   \n",
       "4                       Clips d'oreilles en verre gemme           5.99   \n",
       "...                                                 ...            ...   \n",
       "4848             Bracelet de cheville Bohemian Starfish          10.99   \n",
       "4849  Bracelet pour homme creux avec pendentif guitare           18.68   \n",
       "4850           Boucles d'oreilles en or blanc en zircon          20.82   \n",
       "4851                   Bracelets Vintage en Cuir Vagues          19.32   \n",
       "4852                Bracelet en cuir de chat en alliage           7.44   \n",
       "\n",
       "      raw_price currency  discount  likes_count  is_new   brand  ...  \\\n",
       "0         99.99      USD        57           27   False  XIAOMI  ...   \n",
       "1         33.55      USD        48          518   False    None  ...   \n",
       "2        166.14      USD        60          505   False  Bakeey  ...   \n",
       "3         24.99      USD        60          140   False    None  ...   \n",
       "4         10.99      USD        46          107   False    None  ...   \n",
       "...         ...      ...       ...          ...     ...     ...  ...   \n",
       "4848      20.00      USD        45          190   False    None  ...   \n",
       "4849      39.15      USD        52           36   False    None  ...   \n",
       "4850      36.72      USD        43          337   False    None  ...   \n",
       "4851      36.80      USD        48          190   False    None  ...   \n",
       "4852      16.59      USD        55          197   False    None  ...   \n",
       "\n",
       "     variation_0_color variation_1_color  \\\n",
       "0                 Noir              None   \n",
       "1                 None              None   \n",
       "2                 Rose             rouge   \n",
       "3                 None              None   \n",
       "4                 None              None   \n",
       "...                ...               ...   \n",
       "4848              None              None   \n",
       "4849              Noir              None   \n",
       "4850       Comme image              None   \n",
       "4851            marron              None   \n",
       "4852                Or            argent   \n",
       "\n",
       "                                  variation_0_thumbnail  \\\n",
       "0     https://imgaz1.chiccdn.com/thumb/list_grid/oau...   \n",
       "1                                                  None   \n",
       "2     https://imgaz1.chiccdn.com/thumb/list_grid/oau...   \n",
       "3                                                  None   \n",
       "4                                                  None   \n",
       "...                                                 ...   \n",
       "4848                                               None   \n",
       "4849  https://imgaz1.chiccdn.com/thumb/list_grid/oau...   \n",
       "4850  https://imgaz1.chiccdn.com/thumb/list_grid/oau...   \n",
       "4851  https://imgaz1.chiccdn.com/thumb/list_grid/oau...   \n",
       "4852  https://imgaz1.chiccdn.com/thumb/list_grid/oau...   \n",
       "\n",
       "                                      variation_0_image  \\\n",
       "0     https://imgaz1.chiccdn.com/thumb/view/oaupload...   \n",
       "1                                                  None   \n",
       "2     https://imgaz1.chiccdn.com/thumb/view/oaupload...   \n",
       "3                                                  None   \n",
       "4                                                  None   \n",
       "...                                                 ...   \n",
       "4848                                               None   \n",
       "4849  https://imgaz1.chiccdn.com/thumb/view/oaupload...   \n",
       "4850  https://imgaz1.chiccdn.com/thumb/view/oaupload...   \n",
       "4851  https://imgaz1.chiccdn.com/thumb/view/oaupload...   \n",
       "4852  https://imgaz1.chiccdn.com/thumb/view/oaupload...   \n",
       "\n",
       "                                  variation_1_thumbnail  \\\n",
       "0                                                  None   \n",
       "1                                                  None   \n",
       "2     https://imgaz1.chiccdn.com/thumb/list_grid/oau...   \n",
       "3                                                  None   \n",
       "4                                                  None   \n",
       "...                                                 ...   \n",
       "4848                                               None   \n",
       "4849                                               None   \n",
       "4850                                               None   \n",
       "4851                                               None   \n",
       "4852  https://imgaz1.chiccdn.com/thumb/list_grid/oau...   \n",
       "\n",
       "                                      variation_1_image  \\\n",
       "0                                                  None   \n",
       "1                                                  None   \n",
       "2     https://imgaz1.chiccdn.com/thumb/view/oaupload...   \n",
       "3                                                  None   \n",
       "4                                                  None   \n",
       "...                                                 ...   \n",
       "4848                                               None   \n",
       "4849                                               None   \n",
       "4850                                               None   \n",
       "4851                                               None   \n",
       "4852  https://imgaz1.chiccdn.com/thumb/view/oaupload...   \n",
       "\n",
       "                                              image_url  \\\n",
       "0     https://imgaz1.chiccdn.com/thumb/view/oaupload...   \n",
       "1     https://imgaz1.chiccdn.com/thumb/view/oaupload...   \n",
       "2     https://imgaz1.chiccdn.com/thumb/view/oaupload...   \n",
       "3     https://imgaz1.chiccdn.com/thumb/view/oaupload...   \n",
       "4     https://imgaz1.chiccdn.com/thumb/view/oaupload...   \n",
       "...                                                 ...   \n",
       "4848  https://imgaz1.chiccdn.com/thumb/view/oaupload...   \n",
       "4849  https://imgaz1.chiccdn.com/thumb/view/oaupload...   \n",
       "4850  https://imgaz1.chiccdn.com/thumb/view/oaupload...   \n",
       "4851  https://imgaz1.chiccdn.com/thumb/view/oaupload...   \n",
       "4852  https://imgaz1.chiccdn.com/thumb/view/oaupload...   \n",
       "\n",
       "                                                    url       id      model  \n",
       "0     https://fr.newchic.com/xiaomi-smart-watches-49...  1692610  SKUE46513  \n",
       "1     https://fr.newchic.com/necklaces-4047/p-151378...  1513785  SKUC71348  \n",
       "2     https://fr.newchic.com/bakeey-smart-watches-49...  1409396  SKUA96208  \n",
       "3     https://fr.newchic.com/necklaces-4047/p-168972...  1689722  SKUF37878  \n",
       "4     https://fr.newchic.com/earrings-4041/p-1674308...  1674308  SKUE92041  \n",
       "...                                                 ...      ...        ...  \n",
       "4848  https://fr.newchic.com/anklets-4042/p-1491303....  1491303  SKUC31881  \n",
       "4849  https://fr.newchic.com/mens-bracelets-4082/p-1...  1591320  SKUD63235  \n",
       "4850  https://fr.newchic.com/earrings-4041/p-1289528...  1289528  SKU913933  \n",
       "4851  https://fr.newchic.com/mens-bracelets-4082/p-1...  1342283  SKUA21003  \n",
       "4852  https://fr.newchic.com/bracelets-4043/p-159528...  1595288  SKUD83147  \n",
       "\n",
       "[4853 rows x 22 columns]"
      ]
     },
     "execution_count": 9,
     "metadata": {},
     "output_type": "execute_result"
    }
   ],
   "source": [
    "df_jewelry.toPandas()"
   ]
  },
  {
   "cell_type": "code",
   "execution_count": null,
   "id": "8de6ab3c",
   "metadata": {},
   "outputs": [],
   "source": []
  },
  {
   "cell_type": "markdown",
   "id": "9JIMX5es5P5H",
   "metadata": {
    "id": "9JIMX5es5P5H"
   },
   "source": [
    "## Transformation of the data -  building more features to help analyse each product"
   ]
  },
  {
   "cell_type": "markdown",
   "id": "vtnpW2na5P5H",
   "metadata": {
    "id": "vtnpW2na5P5H"
   },
   "source": [
    "### For these taks you will be required to create more columns to help get a better understanding of each product.<br>First create functions which would take the dataframe as its input and return a new dataframe contianing the following columns.\n",
    "1. Average price of each category\n",
    "2. Average price of each subcategory\n",
    "3. Average discount of each category\n",
    "4. Average discount of each subcategory\n",
    "5. Average likes of each category\n",
    "6. Average likes of each subcategory\n",
    "7. sum of the unused products in each category (tip - first convert the feature isnew to numeric to be able to get the sum of the unused products)\n",
    "8. sum of the unused products in subcategory\n"
   ]
  },
  {
   "cell_type": "code",
   "execution_count": 10,
   "id": "xMtU47b65P5H",
   "metadata": {
    "id": "xMtU47b65P5H"
   },
   "outputs": [],
   "source": [
    "from pyspark.sql import functions as f\n"
   ]
  },
  {
   "cell_type": "code",
   "execution_count": 11,
   "id": "UU724E_N5P5I",
   "metadata": {
    "id": "UU724E_N5P5I"
   },
   "outputs": [],
   "source": [
    "def av_price_category(df):\n",
    "    av_price= df.groupBy(df.category).agg(f.avg(df.current_price).alias(\"avg_price_category\"))\n",
    "    return df.join(av_price, on= 'category',how='left')\n"
   ]
  },
  {
   "cell_type": "code",
   "execution_count": 12,
   "id": "Jkd4XyWv5P5I",
   "metadata": {
    "id": "Jkd4XyWv5P5I"
   },
   "outputs": [],
   "source": [
    "def av_price_subcategory(df):\n",
    "    av_price= df.groupBy(df.subcategory).agg(f.avg(df.current_price).alias(\"avg_price_subcategory\"))\n",
    "    return df.join(av_price, on= 'subcategory',how='left')"
   ]
  },
  {
   "cell_type": "code",
   "execution_count": 13,
   "id": "CIl4J5ic5P5I",
   "metadata": {
    "id": "CIl4J5ic5P5I"
   },
   "outputs": [],
   "source": [
    "def av_discount_category(df):\n",
    "    av_discount= df.groupBy(df.category).agg(f.avg(df.discount).alias(\"avg_discount_category\"))\n",
    "    return df.join(av_discount, on= 'category',how='left')"
   ]
  },
  {
   "cell_type": "code",
   "execution_count": 14,
   "id": "89ac40cf",
   "metadata": {},
   "outputs": [],
   "source": [
    "def av_discount_subcategory(df):\n",
    "    av_discount= df.groupBy(df.subcategory).agg(f.avg(df.discount).alias(\"avg_discount_subcategory\"))\n",
    "    return df.join(av_discount, on= 'subcategory',how='left')"
   ]
  },
  {
   "cell_type": "code",
   "execution_count": 15,
   "id": "9918255d",
   "metadata": {},
   "outputs": [],
   "source": [
    "def av_likes_category(df):\n",
    "    av_like= df.groupBy(df.category).agg(f.avg(df.likes_count).alias(\"avg_likes_category\"))\n",
    "    return df.join(av_like, on= 'category',how='left')"
   ]
  },
  {
   "cell_type": "code",
   "execution_count": 16,
   "id": "4484184d",
   "metadata": {},
   "outputs": [],
   "source": [
    "def av_likes_subcategory(df):\n",
    "    av_like= df.groupBy(df.subcategory).agg(f.avg(df.likes_count).alias(\"avg_likes_subcategory\"))\n",
    "    return df.join(av_like, on= 'subcategory',how='left')"
   ]
  },
  {
   "cell_type": "code",
   "execution_count": 17,
   "id": "a73528b7",
   "metadata": {},
   "outputs": [],
   "source": [
    "def sum_category(df):\n",
    "    sum_unused_by_category = df.groupBy('category').agg(f.sum(f.when(df['is_new']== True, 1).otherwise(0)).alias('sum_unused_category'))\n",
    "    return df.join(sum_unused_by_category, on='category', how='left')"
   ]
  },
  {
   "cell_type": "code",
   "execution_count": 18,
   "id": "dd053ee4",
   "metadata": {},
   "outputs": [],
   "source": [
    "def sum_subcategory(df):\n",
    "    sum_unused_by_subcategory = df.groupBy('subcategory').agg(f.sum(f.when(df['is_new']== True, 1).otherwise(0)).alias('sum_unused_subcategory'))\n",
    "    return df.join(sum_unused_by_subcategory, on='subcategory', how='left')"
   ]
  },
  {
   "cell_type": "markdown",
   "id": "kXf8gfuh5P5I",
   "metadata": {
    "id": "kXf8gfuh5P5I"
   },
   "source": [
    "## Call these functions you created to create the new columns."
   ]
  },
  {
   "cell_type": "code",
   "execution_count": 19,
   "id": "EMbuDZoG5P5I",
   "metadata": {
    "id": "EMbuDZoG5P5I"
   },
   "outputs": [],
   "source": [
    "def transform(df):\n",
    "    df= av_price_category(df)\n",
    "    df= av_price_subcategory(df)\n",
    "    df= av_discount_category(df)\n",
    "    df= av_discount_subcategory(df)\n",
    "    df= av_likes_category(df)\n",
    "    df= av_likes_subcategory(df)\n",
    "    df= sum_category(df)\n",
    "    df= sum_subcategory(df)\n",
    "    return df"
   ]
  },
  {
   "cell_type": "code",
   "execution_count": 20,
   "id": "45e2b662",
   "metadata": {},
   "outputs": [],
   "source": [
    "df_shoes_new= transform(df_shoes)"
   ]
  },
  {
   "cell_type": "code",
   "execution_count": 21,
   "id": "vFOti4nR5P5I",
   "metadata": {
    "id": "vFOti4nR5P5I"
   },
   "outputs": [],
   "source": [
    "df_jewelry_new= transform(df_jewelry)"
   ]
  },
  {
   "cell_type": "code",
   "execution_count": 22,
   "id": "3f968b12",
   "metadata": {},
   "outputs": [],
   "source": [
    "df_accessories_new = transform (df_accessories)"
   ]
  },
  {
   "cell_type": "markdown",
   "id": "00D-A0w25P5I",
   "metadata": {
    "id": "00D-A0w25P5I"
   },
   "source": [
    "## Print the schema of the dataframe to check the new columns created"
   ]
  },
  {
   "cell_type": "code",
   "execution_count": 23,
   "id": "6n6V7xgP5P5J",
   "metadata": {
    "id": "6n6V7xgP5P5J"
   },
   "outputs": [
    {
     "name": "stdout",
     "output_type": "stream",
     "text": [
      "root\n",
      " |-- subcategory: string (nullable = true)\n",
      " |-- category: string (nullable = true)\n",
      " |-- name: string (nullable = true)\n",
      " |-- current_price: double (nullable = true)\n",
      " |-- raw_price: double (nullable = true)\n",
      " |-- currency: string (nullable = true)\n",
      " |-- discount: integer (nullable = true)\n",
      " |-- likes_count: integer (nullable = true)\n",
      " |-- is_new: boolean (nullable = true)\n",
      " |-- brand: string (nullable = true)\n",
      " |-- brand_url: string (nullable = true)\n",
      " |-- codCountry: string (nullable = true)\n",
      " |-- variation_0_color: string (nullable = true)\n",
      " |-- variation_1_color: string (nullable = true)\n",
      " |-- variation_0_thumbnail: string (nullable = true)\n",
      " |-- variation_0_image: string (nullable = true)\n",
      " |-- variation_1_thumbnail: string (nullable = true)\n",
      " |-- variation_1_image: string (nullable = true)\n",
      " |-- image_url: string (nullable = true)\n",
      " |-- url: string (nullable = true)\n",
      " |-- id: integer (nullable = true)\n",
      " |-- model: string (nullable = true)\n",
      " |-- avg_price_category: double (nullable = true)\n",
      " |-- avg_price_subcategory: double (nullable = true)\n",
      " |-- avg_discount_category: double (nullable = true)\n",
      " |-- avg_discount_subcategory: double (nullable = true)\n",
      " |-- avg_likes_category: double (nullable = true)\n",
      " |-- avg_likes_subcategory: double (nullable = true)\n",
      " |-- sum_unused_category: long (nullable = true)\n",
      " |-- sum_unused_subcategory: long (nullable = true)\n",
      "\n"
     ]
    }
   ],
   "source": [
    "df_shoes_new.printSchema()"
   ]
  },
  {
   "cell_type": "code",
   "execution_count": 24,
   "id": "Qx2BHd915P5J",
   "metadata": {
    "id": "Qx2BHd915P5J"
   },
   "outputs": [
    {
     "name": "stderr",
     "output_type": "stream",
     "text": [
      "25/01/28 15:01:23 WARN SparkStringUtils: Truncated the string representation of a plan since it was too large. This behavior can be adjusted by setting 'spark.sql.debug.maxToStringFields'.\n",
      "                                                                                "
     ]
    },
    {
     "data": {
      "text/html": [
       "<div>\n",
       "<style scoped>\n",
       "    .dataframe tbody tr th:only-of-type {\n",
       "        vertical-align: middle;\n",
       "    }\n",
       "\n",
       "    .dataframe tbody tr th {\n",
       "        vertical-align: top;\n",
       "    }\n",
       "\n",
       "    .dataframe thead th {\n",
       "        text-align: right;\n",
       "    }\n",
       "</style>\n",
       "<table border=\"1\" class=\"dataframe\">\n",
       "  <thead>\n",
       "    <tr style=\"text-align: right;\">\n",
       "      <th></th>\n",
       "      <th>subcategory</th>\n",
       "      <th>category</th>\n",
       "      <th>name</th>\n",
       "      <th>current_price</th>\n",
       "      <th>raw_price</th>\n",
       "      <th>currency</th>\n",
       "      <th>discount</th>\n",
       "      <th>likes_count</th>\n",
       "      <th>is_new</th>\n",
       "      <th>brand</th>\n",
       "      <th>...</th>\n",
       "      <th>id</th>\n",
       "      <th>model</th>\n",
       "      <th>avg_price_category</th>\n",
       "      <th>avg_price_subcategory</th>\n",
       "      <th>avg_discount_category</th>\n",
       "      <th>avg_discount_subcategory</th>\n",
       "      <th>avg_likes_category</th>\n",
       "      <th>avg_likes_subcategory</th>\n",
       "      <th>sum_unused_category</th>\n",
       "      <th>sum_unused_subcategory</th>\n",
       "    </tr>\n",
       "  </thead>\n",
       "  <tbody>\n",
       "    <tr>\n",
       "      <th>0</th>\n",
       "      <td>Mocassins</td>\n",
       "      <td>shoes</td>\n",
       "      <td>Chaussures décontractées antidérapantes en tis...</td>\n",
       "      <td>36.40</td>\n",
       "      <td>72.80</td>\n",
       "      <td>USD</td>\n",
       "      <td>50</td>\n",
       "      <td>873</td>\n",
       "      <td>False</td>\n",
       "      <td>None</td>\n",
       "      <td>...</td>\n",
       "      <td>1687903</td>\n",
       "      <td>SKUF29428</td>\n",
       "      <td>38.08438</td>\n",
       "      <td>44.904363</td>\n",
       "      <td>53.040768</td>\n",
       "      <td>49.517322</td>\n",
       "      <td>284.091855</td>\n",
       "      <td>197.009395</td>\n",
       "      <td>271</td>\n",
       "      <td>21</td>\n",
       "    </tr>\n",
       "    <tr>\n",
       "      <th>1</th>\n",
       "      <td>Mocassins</td>\n",
       "      <td>shoes</td>\n",
       "      <td>Chaussures en cuir à carreaux pour hommes de g...</td>\n",
       "      <td>46.36</td>\n",
       "      <td>106.49</td>\n",
       "      <td>USD</td>\n",
       "      <td>57</td>\n",
       "      <td>358</td>\n",
       "      <td>False</td>\n",
       "      <td>None</td>\n",
       "      <td>...</td>\n",
       "      <td>1533324</td>\n",
       "      <td>SKUC99128</td>\n",
       "      <td>38.08438</td>\n",
       "      <td>44.904363</td>\n",
       "      <td>53.040768</td>\n",
       "      <td>49.517322</td>\n",
       "      <td>284.091855</td>\n",
       "      <td>197.009395</td>\n",
       "      <td>271</td>\n",
       "      <td>21</td>\n",
       "    </tr>\n",
       "    <tr>\n",
       "      <th>2</th>\n",
       "      <td>Mocassins</td>\n",
       "      <td>shoes</td>\n",
       "      <td>Chaussures décontractées en cuir pour hommes</td>\n",
       "      <td>43.38</td>\n",
       "      <td>119.98</td>\n",
       "      <td>USD</td>\n",
       "      <td>64</td>\n",
       "      <td>1511</td>\n",
       "      <td>False</td>\n",
       "      <td>Menico</td>\n",
       "      <td>...</td>\n",
       "      <td>1651734</td>\n",
       "      <td>SKUE68011</td>\n",
       "      <td>38.08438</td>\n",
       "      <td>44.904363</td>\n",
       "      <td>53.040768</td>\n",
       "      <td>49.517322</td>\n",
       "      <td>284.091855</td>\n",
       "      <td>197.009395</td>\n",
       "      <td>271</td>\n",
       "      <td>21</td>\n",
       "    </tr>\n",
       "    <tr>\n",
       "      <th>3</th>\n",
       "      <td>Sneakers &amp; Baskets</td>\n",
       "      <td>shoes</td>\n",
       "      <td>Baskets plates élastiques en tricot d'épissage</td>\n",
       "      <td>19.99</td>\n",
       "      <td>39.99</td>\n",
       "      <td>USD</td>\n",
       "      <td>50</td>\n",
       "      <td>1873</td>\n",
       "      <td>False</td>\n",
       "      <td>None</td>\n",
       "      <td>...</td>\n",
       "      <td>1591892</td>\n",
       "      <td>SKUD85085</td>\n",
       "      <td>38.08438</td>\n",
       "      <td>32.696004</td>\n",
       "      <td>53.040768</td>\n",
       "      <td>51.797101</td>\n",
       "      <td>284.091855</td>\n",
       "      <td>293.222567</td>\n",
       "      <td>271</td>\n",
       "      <td>41</td>\n",
       "    </tr>\n",
       "    <tr>\n",
       "      <th>4</th>\n",
       "      <td>Mocassins</td>\n",
       "      <td>shoes</td>\n",
       "      <td>Hommes Cuir Épissage Soft Semelle Casual Chaus...</td>\n",
       "      <td>46.18</td>\n",
       "      <td>119.98</td>\n",
       "      <td>USD</td>\n",
       "      <td>62</td>\n",
       "      <td>2738</td>\n",
       "      <td>False</td>\n",
       "      <td>None</td>\n",
       "      <td>...</td>\n",
       "      <td>1474682</td>\n",
       "      <td>SKUC15622</td>\n",
       "      <td>38.08438</td>\n",
       "      <td>44.904363</td>\n",
       "      <td>53.040768</td>\n",
       "      <td>49.517322</td>\n",
       "      <td>284.091855</td>\n",
       "      <td>197.009395</td>\n",
       "      <td>271</td>\n",
       "      <td>21</td>\n",
       "    </tr>\n",
       "    <tr>\n",
       "      <th>5</th>\n",
       "      <td>Mocassins</td>\n",
       "      <td>shoes</td>\n",
       "      <td>Chaussures décontractées antidérapantes en cui...</td>\n",
       "      <td>45.57</td>\n",
       "      <td>91.14</td>\n",
       "      <td>USD</td>\n",
       "      <td>50</td>\n",
       "      <td>202</td>\n",
       "      <td>False</td>\n",
       "      <td>None</td>\n",
       "      <td>...</td>\n",
       "      <td>1682984</td>\n",
       "      <td>SKUF29370</td>\n",
       "      <td>38.08438</td>\n",
       "      <td>44.904363</td>\n",
       "      <td>53.040768</td>\n",
       "      <td>49.517322</td>\n",
       "      <td>284.091855</td>\n",
       "      <td>197.009395</td>\n",
       "      <td>271</td>\n",
       "      <td>21</td>\n",
       "    </tr>\n",
       "    <tr>\n",
       "      <th>6</th>\n",
       "      <td>Mocassins</td>\n",
       "      <td>shoes</td>\n",
       "      <td>Chaussures de conduite décontractées antidérap...</td>\n",
       "      <td>36.64</td>\n",
       "      <td>73.28</td>\n",
       "      <td>USD</td>\n",
       "      <td>50</td>\n",
       "      <td>303</td>\n",
       "      <td>False</td>\n",
       "      <td>None</td>\n",
       "      <td>...</td>\n",
       "      <td>1696409</td>\n",
       "      <td>SKUF40815</td>\n",
       "      <td>38.08438</td>\n",
       "      <td>44.904363</td>\n",
       "      <td>53.040768</td>\n",
       "      <td>49.517322</td>\n",
       "      <td>284.091855</td>\n",
       "      <td>197.009395</td>\n",
       "      <td>271</td>\n",
       "      <td>21</td>\n",
       "    </tr>\n",
       "    <tr>\n",
       "      <th>7</th>\n",
       "      <td>Mocassins</td>\n",
       "      <td>shoes</td>\n",
       "      <td>Chaussures décontractées confortables en toile...</td>\n",
       "      <td>22.98</td>\n",
       "      <td>63.98</td>\n",
       "      <td>USD</td>\n",
       "      <td>64</td>\n",
       "      <td>3688</td>\n",
       "      <td>False</td>\n",
       "      <td>None</td>\n",
       "      <td>...</td>\n",
       "      <td>1488803</td>\n",
       "      <td>SKUC25967</td>\n",
       "      <td>38.08438</td>\n",
       "      <td>44.904363</td>\n",
       "      <td>53.040768</td>\n",
       "      <td>49.517322</td>\n",
       "      <td>284.091855</td>\n",
       "      <td>197.009395</td>\n",
       "      <td>271</td>\n",
       "      <td>21</td>\n",
       "    </tr>\n",
       "    <tr>\n",
       "      <th>8</th>\n",
       "      <td>Bottes &amp; Bottines</td>\n",
       "      <td>shoes</td>\n",
       "      <td>Bottes à talons blocs à lacets brodés</td>\n",
       "      <td>41.29</td>\n",
       "      <td>96.94</td>\n",
       "      <td>USD</td>\n",
       "      <td>57</td>\n",
       "      <td>5739</td>\n",
       "      <td>False</td>\n",
       "      <td>None</td>\n",
       "      <td>...</td>\n",
       "      <td>1540079</td>\n",
       "      <td>SKUD06092</td>\n",
       "      <td>38.08438</td>\n",
       "      <td>44.448119</td>\n",
       "      <td>53.040768</td>\n",
       "      <td>53.269967</td>\n",
       "      <td>284.091855</td>\n",
       "      <td>452.966997</td>\n",
       "      <td>271</td>\n",
       "      <td>18</td>\n",
       "    </tr>\n",
       "    <tr>\n",
       "      <th>9</th>\n",
       "      <td>Bottes &amp; Bottines</td>\n",
       "      <td>shoes</td>\n",
       "      <td>Bottes d'été en cuir brodé de fleurs en strass</td>\n",
       "      <td>32.99</td>\n",
       "      <td>69.99</td>\n",
       "      <td>USD</td>\n",
       "      <td>53</td>\n",
       "      <td>218</td>\n",
       "      <td>False</td>\n",
       "      <td>None</td>\n",
       "      <td>...</td>\n",
       "      <td>1710310</td>\n",
       "      <td>SKUF71539</td>\n",
       "      <td>38.08438</td>\n",
       "      <td>44.448119</td>\n",
       "      <td>53.040768</td>\n",
       "      <td>53.269967</td>\n",
       "      <td>284.091855</td>\n",
       "      <td>452.966997</td>\n",
       "      <td>271</td>\n",
       "      <td>18</td>\n",
       "    </tr>\n",
       "    <tr>\n",
       "      <th>10</th>\n",
       "      <td>Baskets</td>\n",
       "      <td>shoes</td>\n",
       "      <td>Sneakers de course et de marche de grande tail...</td>\n",
       "      <td>34.84</td>\n",
       "      <td>76.46</td>\n",
       "      <td>USD</td>\n",
       "      <td>54</td>\n",
       "      <td>2252</td>\n",
       "      <td>False</td>\n",
       "      <td>None</td>\n",
       "      <td>...</td>\n",
       "      <td>1284771</td>\n",
       "      <td>SKU931470</td>\n",
       "      <td>38.08438</td>\n",
       "      <td>38.950835</td>\n",
       "      <td>53.040768</td>\n",
       "      <td>55.091806</td>\n",
       "      <td>284.091855</td>\n",
       "      <td>89.135812</td>\n",
       "      <td>271</td>\n",
       "      <td>68</td>\n",
       "    </tr>\n",
       "    <tr>\n",
       "      <th>11</th>\n",
       "      <td>Sandales &amp; Mules</td>\n",
       "      <td>shoes</td>\n",
       "      <td>Sandales compensées à boucle évidée</td>\n",
       "      <td>30.67</td>\n",
       "      <td>74.20</td>\n",
       "      <td>USD</td>\n",
       "      <td>59</td>\n",
       "      <td>7784</td>\n",
       "      <td>False</td>\n",
       "      <td>Lostisy</td>\n",
       "      <td>...</td>\n",
       "      <td>1431555</td>\n",
       "      <td>SKUB22042</td>\n",
       "      <td>38.08438</td>\n",
       "      <td>34.924000</td>\n",
       "      <td>53.040768</td>\n",
       "      <td>52.473134</td>\n",
       "      <td>284.091855</td>\n",
       "      <td>381.479851</td>\n",
       "      <td>271</td>\n",
       "      <td>15</td>\n",
       "    </tr>\n",
       "    <tr>\n",
       "      <th>12</th>\n",
       "      <td>Mocassins</td>\n",
       "      <td>shoes</td>\n",
       "      <td>Chaussures de conduite décontractées antidérap...</td>\n",
       "      <td>49.99</td>\n",
       "      <td>112.34</td>\n",
       "      <td>USD</td>\n",
       "      <td>56</td>\n",
       "      <td>159</td>\n",
       "      <td>False</td>\n",
       "      <td>None</td>\n",
       "      <td>...</td>\n",
       "      <td>1685010</td>\n",
       "      <td>SKUF28423</td>\n",
       "      <td>38.08438</td>\n",
       "      <td>44.904363</td>\n",
       "      <td>53.040768</td>\n",
       "      <td>49.517322</td>\n",
       "      <td>284.091855</td>\n",
       "      <td>197.009395</td>\n",
       "      <td>271</td>\n",
       "      <td>21</td>\n",
       "    </tr>\n",
       "    <tr>\n",
       "      <th>13</th>\n",
       "      <td>Baskets</td>\n",
       "      <td>shoes</td>\n",
       "      <td>Hommes Engrener Sneakers de randonnée non glis...</td>\n",
       "      <td>43.12</td>\n",
       "      <td>110.60</td>\n",
       "      <td>USD</td>\n",
       "      <td>61</td>\n",
       "      <td>1539</td>\n",
       "      <td>False</td>\n",
       "      <td>None</td>\n",
       "      <td>...</td>\n",
       "      <td>1459646</td>\n",
       "      <td>SKUB82094</td>\n",
       "      <td>38.08438</td>\n",
       "      <td>38.950835</td>\n",
       "      <td>53.040768</td>\n",
       "      <td>55.091806</td>\n",
       "      <td>284.091855</td>\n",
       "      <td>89.135812</td>\n",
       "      <td>271</td>\n",
       "      <td>68</td>\n",
       "    </tr>\n",
       "    <tr>\n",
       "      <th>14</th>\n",
       "      <td>Sneakers &amp; Baskets</td>\n",
       "      <td>shoes</td>\n",
       "      <td>Baskets à enfiler en maille Air Mesh</td>\n",
       "      <td>19.99</td>\n",
       "      <td>39.99</td>\n",
       "      <td>USD</td>\n",
       "      <td>50</td>\n",
       "      <td>2895</td>\n",
       "      <td>False</td>\n",
       "      <td>None</td>\n",
       "      <td>...</td>\n",
       "      <td>1412928</td>\n",
       "      <td>SKUB19289</td>\n",
       "      <td>38.08438</td>\n",
       "      <td>32.696004</td>\n",
       "      <td>53.040768</td>\n",
       "      <td>51.797101</td>\n",
       "      <td>284.091855</td>\n",
       "      <td>293.222567</td>\n",
       "      <td>271</td>\n",
       "      <td>41</td>\n",
       "    </tr>\n",
       "    <tr>\n",
       "      <th>15</th>\n",
       "      <td>Mocassins</td>\n",
       "      <td>shoes</td>\n",
       "      <td>Chaussures en cuir à couture à la main</td>\n",
       "      <td>64.62</td>\n",
       "      <td>131.98</td>\n",
       "      <td>USD</td>\n",
       "      <td>51</td>\n",
       "      <td>3216</td>\n",
       "      <td>False</td>\n",
       "      <td>Menico</td>\n",
       "      <td>...</td>\n",
       "      <td>1341589</td>\n",
       "      <td>SKUA23559</td>\n",
       "      <td>38.08438</td>\n",
       "      <td>44.904363</td>\n",
       "      <td>53.040768</td>\n",
       "      <td>49.517322</td>\n",
       "      <td>284.091855</td>\n",
       "      <td>197.009395</td>\n",
       "      <td>271</td>\n",
       "      <td>21</td>\n",
       "    </tr>\n",
       "    <tr>\n",
       "      <th>16</th>\n",
       "      <td>Derbies &amp; Mocassins</td>\n",
       "      <td>shoes</td>\n",
       "      <td>Chaussures plates sans dossier en daim à gros ...</td>\n",
       "      <td>26.09</td>\n",
       "      <td>68.27</td>\n",
       "      <td>USD</td>\n",
       "      <td>62</td>\n",
       "      <td>1037</td>\n",
       "      <td>False</td>\n",
       "      <td>None</td>\n",
       "      <td>...</td>\n",
       "      <td>1674852</td>\n",
       "      <td>SKUF15255</td>\n",
       "      <td>38.08438</td>\n",
       "      <td>32.199906</td>\n",
       "      <td>53.040768</td>\n",
       "      <td>52.845238</td>\n",
       "      <td>284.091855</td>\n",
       "      <td>497.713659</td>\n",
       "      <td>271</td>\n",
       "      <td>38</td>\n",
       "    </tr>\n",
       "    <tr>\n",
       "      <th>17</th>\n",
       "      <td>Mocassins</td>\n",
       "      <td>shoes</td>\n",
       "      <td>Chaussures décontractées antidérapantes en cui...</td>\n",
       "      <td>46.99</td>\n",
       "      <td>124.98</td>\n",
       "      <td>USD</td>\n",
       "      <td>62</td>\n",
       "      <td>275</td>\n",
       "      <td>False</td>\n",
       "      <td>None</td>\n",
       "      <td>...</td>\n",
       "      <td>1662406</td>\n",
       "      <td>SKUE61768</td>\n",
       "      <td>38.08438</td>\n",
       "      <td>44.904363</td>\n",
       "      <td>53.040768</td>\n",
       "      <td>49.517322</td>\n",
       "      <td>284.091855</td>\n",
       "      <td>197.009395</td>\n",
       "      <td>271</td>\n",
       "      <td>21</td>\n",
       "    </tr>\n",
       "    <tr>\n",
       "      <th>18</th>\n",
       "      <td>Mocassins</td>\n",
       "      <td>shoes</td>\n",
       "      <td>Chaussures décontractées respirantes en tissu ...</td>\n",
       "      <td>31.33</td>\n",
       "      <td>62.66</td>\n",
       "      <td>USD</td>\n",
       "      <td>50</td>\n",
       "      <td>107</td>\n",
       "      <td>False</td>\n",
       "      <td>None</td>\n",
       "      <td>...</td>\n",
       "      <td>1707688</td>\n",
       "      <td>SKUF60964</td>\n",
       "      <td>38.08438</td>\n",
       "      <td>44.904363</td>\n",
       "      <td>53.040768</td>\n",
       "      <td>49.517322</td>\n",
       "      <td>284.091855</td>\n",
       "      <td>197.009395</td>\n",
       "      <td>271</td>\n",
       "      <td>21</td>\n",
       "    </tr>\n",
       "    <tr>\n",
       "      <th>19</th>\n",
       "      <td>Derbies &amp; Mocassins</td>\n",
       "      <td>shoes</td>\n",
       "      <td>Chaussures Souples De Grande Taille Mocassins ...</td>\n",
       "      <td>23.59</td>\n",
       "      <td>39.99</td>\n",
       "      <td>USD</td>\n",
       "      <td>41</td>\n",
       "      <td>12457</td>\n",
       "      <td>False</td>\n",
       "      <td>None</td>\n",
       "      <td>...</td>\n",
       "      <td>1124740</td>\n",
       "      <td>SKU573298</td>\n",
       "      <td>38.08438</td>\n",
       "      <td>32.199906</td>\n",
       "      <td>53.040768</td>\n",
       "      <td>52.845238</td>\n",
       "      <td>284.091855</td>\n",
       "      <td>497.713659</td>\n",
       "      <td>271</td>\n",
       "      <td>38</td>\n",
       "    </tr>\n",
       "  </tbody>\n",
       "</table>\n",
       "<p>20 rows × 30 columns</p>\n",
       "</div>"
      ],
      "text/plain": [
       "            subcategory category  \\\n",
       "0             Mocassins    shoes   \n",
       "1             Mocassins    shoes   \n",
       "2             Mocassins    shoes   \n",
       "3    Sneakers & Baskets    shoes   \n",
       "4             Mocassins    shoes   \n",
       "5             Mocassins    shoes   \n",
       "6             Mocassins    shoes   \n",
       "7             Mocassins    shoes   \n",
       "8     Bottes & Bottines    shoes   \n",
       "9     Bottes & Bottines    shoes   \n",
       "10              Baskets    shoes   \n",
       "11     Sandales & Mules    shoes   \n",
       "12            Mocassins    shoes   \n",
       "13              Baskets    shoes   \n",
       "14   Sneakers & Baskets    shoes   \n",
       "15            Mocassins    shoes   \n",
       "16  Derbies & Mocassins    shoes   \n",
       "17            Mocassins    shoes   \n",
       "18            Mocassins    shoes   \n",
       "19  Derbies & Mocassins    shoes   \n",
       "\n",
       "                                                 name  current_price  \\\n",
       "0   Chaussures décontractées antidérapantes en tis...          36.40   \n",
       "1   Chaussures en cuir à carreaux pour hommes de g...          46.36   \n",
       "2        Chaussures décontractées en cuir pour hommes          43.38   \n",
       "3      Baskets plates élastiques en tricot d'épissage          19.99   \n",
       "4   Hommes Cuir Épissage Soft Semelle Casual Chaus...          46.18   \n",
       "5   Chaussures décontractées antidérapantes en cui...          45.57   \n",
       "6   Chaussures de conduite décontractées antidérap...          36.64   \n",
       "7   Chaussures décontractées confortables en toile...          22.98   \n",
       "8               Bottes à talons blocs à lacets brodés          41.29   \n",
       "9      Bottes d'été en cuir brodé de fleurs en strass          32.99   \n",
       "10  Sneakers de course et de marche de grande tail...          34.84   \n",
       "11                Sandales compensées à boucle évidée          30.67   \n",
       "12  Chaussures de conduite décontractées antidérap...          49.99   \n",
       "13  Hommes Engrener Sneakers de randonnée non glis...          43.12   \n",
       "14               Baskets à enfiler en maille Air Mesh          19.99   \n",
       "15             Chaussures en cuir à couture à la main          64.62   \n",
       "16  Chaussures plates sans dossier en daim à gros ...          26.09   \n",
       "17  Chaussures décontractées antidérapantes en cui...          46.99   \n",
       "18  Chaussures décontractées respirantes en tissu ...          31.33   \n",
       "19  Chaussures Souples De Grande Taille Mocassins ...          23.59   \n",
       "\n",
       "    raw_price currency  discount  likes_count  is_new    brand  ...       id  \\\n",
       "0       72.80      USD        50          873   False     None  ...  1687903   \n",
       "1      106.49      USD        57          358   False     None  ...  1533324   \n",
       "2      119.98      USD        64         1511   False   Menico  ...  1651734   \n",
       "3       39.99      USD        50         1873   False     None  ...  1591892   \n",
       "4      119.98      USD        62         2738   False     None  ...  1474682   \n",
       "5       91.14      USD        50          202   False     None  ...  1682984   \n",
       "6       73.28      USD        50          303   False     None  ...  1696409   \n",
       "7       63.98      USD        64         3688   False     None  ...  1488803   \n",
       "8       96.94      USD        57         5739   False     None  ...  1540079   \n",
       "9       69.99      USD        53          218   False     None  ...  1710310   \n",
       "10      76.46      USD        54         2252   False     None  ...  1284771   \n",
       "11      74.20      USD        59         7784   False  Lostisy  ...  1431555   \n",
       "12     112.34      USD        56          159   False     None  ...  1685010   \n",
       "13     110.60      USD        61         1539   False     None  ...  1459646   \n",
       "14      39.99      USD        50         2895   False     None  ...  1412928   \n",
       "15     131.98      USD        51         3216   False   Menico  ...  1341589   \n",
       "16      68.27      USD        62         1037   False     None  ...  1674852   \n",
       "17     124.98      USD        62          275   False     None  ...  1662406   \n",
       "18      62.66      USD        50          107   False     None  ...  1707688   \n",
       "19      39.99      USD        41        12457   False     None  ...  1124740   \n",
       "\n",
       "        model avg_price_category avg_price_subcategory avg_discount_category  \\\n",
       "0   SKUF29428           38.08438             44.904363             53.040768   \n",
       "1   SKUC99128           38.08438             44.904363             53.040768   \n",
       "2   SKUE68011           38.08438             44.904363             53.040768   \n",
       "3   SKUD85085           38.08438             32.696004             53.040768   \n",
       "4   SKUC15622           38.08438             44.904363             53.040768   \n",
       "5   SKUF29370           38.08438             44.904363             53.040768   \n",
       "6   SKUF40815           38.08438             44.904363             53.040768   \n",
       "7   SKUC25967           38.08438             44.904363             53.040768   \n",
       "8   SKUD06092           38.08438             44.448119             53.040768   \n",
       "9   SKUF71539           38.08438             44.448119             53.040768   \n",
       "10  SKU931470           38.08438             38.950835             53.040768   \n",
       "11  SKUB22042           38.08438             34.924000             53.040768   \n",
       "12  SKUF28423           38.08438             44.904363             53.040768   \n",
       "13  SKUB82094           38.08438             38.950835             53.040768   \n",
       "14  SKUB19289           38.08438             32.696004             53.040768   \n",
       "15  SKUA23559           38.08438             44.904363             53.040768   \n",
       "16  SKUF15255           38.08438             32.199906             53.040768   \n",
       "17  SKUE61768           38.08438             44.904363             53.040768   \n",
       "18  SKUF60964           38.08438             44.904363             53.040768   \n",
       "19  SKU573298           38.08438             32.199906             53.040768   \n",
       "\n",
       "   avg_discount_subcategory avg_likes_category avg_likes_subcategory  \\\n",
       "0                 49.517322         284.091855            197.009395   \n",
       "1                 49.517322         284.091855            197.009395   \n",
       "2                 49.517322         284.091855            197.009395   \n",
       "3                 51.797101         284.091855            293.222567   \n",
       "4                 49.517322         284.091855            197.009395   \n",
       "5                 49.517322         284.091855            197.009395   \n",
       "6                 49.517322         284.091855            197.009395   \n",
       "7                 49.517322         284.091855            197.009395   \n",
       "8                 53.269967         284.091855            452.966997   \n",
       "9                 53.269967         284.091855            452.966997   \n",
       "10                55.091806         284.091855             89.135812   \n",
       "11                52.473134         284.091855            381.479851   \n",
       "12                49.517322         284.091855            197.009395   \n",
       "13                55.091806         284.091855             89.135812   \n",
       "14                51.797101         284.091855            293.222567   \n",
       "15                49.517322         284.091855            197.009395   \n",
       "16                52.845238         284.091855            497.713659   \n",
       "17                49.517322         284.091855            197.009395   \n",
       "18                49.517322         284.091855            197.009395   \n",
       "19                52.845238         284.091855            497.713659   \n",
       "\n",
       "   sum_unused_category sum_unused_subcategory  \n",
       "0                  271                     21  \n",
       "1                  271                     21  \n",
       "2                  271                     21  \n",
       "3                  271                     41  \n",
       "4                  271                     21  \n",
       "5                  271                     21  \n",
       "6                  271                     21  \n",
       "7                  271                     21  \n",
       "8                  271                     18  \n",
       "9                  271                     18  \n",
       "10                 271                     68  \n",
       "11                 271                     15  \n",
       "12                 271                     21  \n",
       "13                 271                     68  \n",
       "14                 271                     41  \n",
       "15                 271                     21  \n",
       "16                 271                     38  \n",
       "17                 271                     21  \n",
       "18                 271                     21  \n",
       "19                 271                     38  \n",
       "\n",
       "[20 rows x 30 columns]"
      ]
     },
     "execution_count": 24,
     "metadata": {},
     "output_type": "execute_result"
    }
   ],
   "source": [
    "df_shoes_new.toPandas().head(20)"
   ]
  },
  {
   "cell_type": "markdown",
   "id": "UIKYI_8m5P5J",
   "metadata": {
    "id": "UIKYI_8m5P5J"
   },
   "source": [
    "## Analysis - Utilising the newly created features to answer some questions<br>For this taks use the dataframe API to answer the following questions"
   ]
  },
  {
   "cell_type": "markdown",
   "id": "1dUd4XhF5P5J",
   "metadata": {
    "id": "1dUd4XhF5P5J"
   },
   "source": [
    "### Which type of product is the least popular with the users (tip - find the feature which demonstrates the popularity of a product)"
   ]
  },
  {
   "cell_type": "code",
   "execution_count": 25,
   "id": "Ghp8GEJs5P5J",
   "metadata": {
    "id": "Ghp8GEJs5P5J"
   },
   "outputs": [
    {
     "name": "stdout",
     "output_type": "stream",
     "text": [
      "+-----------+------------------+\n",
      "|   category|avg_likes_category|\n",
      "+-----------+------------------+\n",
      "|accessories| 96.49606794589494|\n",
      "+-----------+------------------+\n",
      "\n"
     ]
    }
   ],
   "source": [
    "from pyspark.sql import functions as f\n",
    "\n",
    "df_combined = df_shoes_new.select('id', 'category', 'avg_likes_category') \\\n",
    "                          .union(df_jewelry_new.select('id', 'category', 'avg_likes_category')) \\\n",
    "                          .union(df_accessories_new.select('id', 'category', 'avg_likes_category'))\n",
    "\n",
    "df_combined.filter(df_combined.avg_likes_category.isNotNull()) \\\n",
    "           .orderBy(f.asc('avg_likes_category')) \\\n",
    "           .limit(1) \\\n",
    "           .select('category', 'avg_likes_category') \\\n",
    "           .show()\n"
   ]
  },
  {
   "cell_type": "code",
   "execution_count": null,
   "id": "Dmfov5xe5P5J",
   "metadata": {
    "id": "Dmfov5xe5P5J"
   },
   "outputs": [],
   "source": []
  },
  {
   "cell_type": "markdown",
   "id": "g8UiaF615P5K",
   "metadata": {
    "id": "g8UiaF615P5K"
   },
   "source": [
    "### Which type of product is the most popular with the users"
   ]
  },
  {
   "cell_type": "code",
   "execution_count": 26,
   "id": "GZ4ADRYu5P5K",
   "metadata": {
    "id": "GZ4ADRYu5P5K"
   },
   "outputs": [
    {
     "name": "stdout",
     "output_type": "stream",
     "text": [
      "+--------+------------------+\n",
      "|category|avg_likes_category|\n",
      "+--------+------------------+\n",
      "|   shoes| 284.0918548591728|\n",
      "+--------+------------------+\n",
      "\n"
     ]
    }
   ],
   "source": [
    "from pyspark.sql import functions as f\n",
    "\n",
    "df_combined = df_shoes_new.select('id', 'category', 'avg_likes_category') \\\n",
    "                          .union(df_jewelry_new.select('id', 'category', 'avg_likes_category')) \\\n",
    "                          .union(df_accessories_new.select('id', 'category', 'avg_likes_category'))\n",
    "\n",
    "df_combined.filter(df_combined.avg_likes_category.isNotNull()) \\\n",
    "           .orderBy(f.desc('avg_likes_category')) \\\n",
    "           .limit(1) \\\n",
    "           .select('category', 'avg_likes_category') \\\n",
    "           .show()"
   ]
  },
  {
   "cell_type": "code",
   "execution_count": null,
   "id": "WYtxPUY05P5K",
   "metadata": {
    "id": "WYtxPUY05P5K"
   },
   "outputs": [],
   "source": []
  },
  {
   "cell_type": "markdown",
   "id": "R8ZLFF2r5P5K",
   "metadata": {
    "id": "R8ZLFF2r5P5K"
   },
   "source": [
    "### Which subcategory product is the most popular with the users"
   ]
  },
  {
   "cell_type": "code",
   "execution_count": 27,
   "id": "9sALL3-T5P5K",
   "metadata": {
    "id": "9sALL3-T5P5K"
   },
   "outputs": [
    {
     "name": "stdout",
     "output_type": "stream",
     "text": [
      "+-----------+---------------------+\n",
      "|subcategory|avg_likes_subcategory|\n",
      "+-----------+---------------------+\n",
      "|  Escarpins|    519.8844086021505|\n",
      "+-----------+---------------------+\n",
      "\n"
     ]
    }
   ],
   "source": [
    "from pyspark.sql import functions as f\n",
    "\n",
    "df_combined = df_shoes_new.select('id', 'subcategory', 'avg_likes_subcategory') \\\n",
    "                          .union(df_jewelry_new.select('id', 'subcategory', 'avg_likes_subcategory')) \\\n",
    "                          .union(df_accessories_new.select('id', 'subcategory', 'avg_likes_subcategory'))\n",
    "\n",
    "df_combined.filter(df_combined.avg_likes_subcategory.isNotNull()) \\\n",
    "           .orderBy(f.desc('avg_likes_subcategory')) \\\n",
    "           .limit(1) \\\n",
    "           .select('subcategory', 'avg_likes_subcategory') \\\n",
    "           .show()"
   ]
  },
  {
   "cell_type": "code",
   "execution_count": null,
   "id": "gX5WZhBT5P5K",
   "metadata": {
    "id": "gX5WZhBT5P5K"
   },
   "outputs": [],
   "source": []
  },
  {
   "cell_type": "markdown",
   "id": "VbBmonPc5P5K",
   "metadata": {
    "id": "VbBmonPc5P5K"
   },
   "source": [
    "###  Which subcategory product is the least popular with the users"
   ]
  },
  {
   "cell_type": "code",
   "execution_count": 28,
   "id": "gOMnXMzV5P5K",
   "metadata": {
    "id": "gOMnXMzV5P5K"
   },
   "outputs": [
    {
     "name": "stdout",
     "output_type": "stream",
     "text": [
      "+---------------------+---------------------+\n",
      "|subcategory          |avg_likes_subcategory|\n",
      "+---------------------+---------------------+\n",
      "|Sun Protection Sleeve|6.054054054054054    |\n",
      "+---------------------+---------------------+\n",
      "\n"
     ]
    }
   ],
   "source": [
    "from pyspark.sql import functions as f\n",
    "\n",
    "df_combined = df_shoes_new.select('id', 'subcategory', 'avg_likes_subcategory') \\\n",
    "                          .union(df_jewelry_new.select('id', 'subcategory', 'avg_likes_subcategory')) \\\n",
    "                          .union(df_accessories_new.select('id', 'subcategory', 'avg_likes_subcategory'))\n",
    "\n",
    "df_combined.filter(df_combined.avg_likes_subcategory.isNotNull()) \\\n",
    "           .orderBy(f.asc('avg_likes_subcategory')) \\\n",
    "           .limit(1) \\\n",
    "           .select('subcategory', 'avg_likes_subcategory' ) \\\n",
    "           .show(truncate=False)"
   ]
  },
  {
   "cell_type": "code",
   "execution_count": null,
   "id": "URDqNiPL5P5K",
   "metadata": {
    "id": "URDqNiPL5P5K"
   },
   "outputs": [],
   "source": []
  },
  {
   "cell_type": "markdown",
   "id": "_WeL1X2v5P5K",
   "metadata": {
    "id": "_WeL1X2v5P5K"
   },
   "source": [
    "### In the accessory products, which subcategory was the most expensive"
   ]
  },
  {
   "cell_type": "code",
   "execution_count": 29,
   "id": "96X1d03L5P5L",
   "metadata": {
    "id": "96X1d03L5P5L"
   },
   "outputs": [
    {
     "name": "stdout",
     "output_type": "stream",
     "text": [
      "+-----------+---------+\n",
      "|subcategory|max_price|\n",
      "+-----------+---------+\n",
      "|Lunettes   |92.99    |\n",
      "+-----------+---------+\n",
      "\n"
     ]
    }
   ],
   "source": [
    "from pyspark.sql import functions as f\n",
    "df_accessories_new.groupBy('subcategory') \\\n",
    "    .agg(f.max('current_price').alias('max_price')) \\\n",
    "    .orderBy(f.desc('max_price')) \\\n",
    "    .limit(1) \\\n",
    "    .show(truncate=False)\n"
   ]
  },
  {
   "cell_type": "code",
   "execution_count": null,
   "id": "tmrT7Z1F5P5L",
   "metadata": {
    "id": "tmrT7Z1F5P5L"
   },
   "outputs": [],
   "source": []
  },
  {
   "cell_type": "markdown",
   "id": "Hc6T577Z5P5L",
   "metadata": {
    "id": "Hc6T577Z5P5L"
   },
   "source": [
    "### Which type of product had the highest discount offerings"
   ]
  },
  {
   "cell_type": "code",
   "execution_count": 30,
   "id": "rakrQzx85P5L",
   "metadata": {
    "id": "rakrQzx85P5L"
   },
   "outputs": [
    {
     "name": "stdout",
     "output_type": "stream",
     "text": [
      "+--------+---------------------+\n",
      "|category|avg_discount_category|\n",
      "+--------+---------------------+\n",
      "| jewelry|     53.1318771893674|\n",
      "+--------+---------------------+\n",
      "\n"
     ]
    }
   ],
   "source": [
    "from pyspark.sql import functions as f  #assumed product means category not subcategory\n",
    "\n",
    "df_combined = df_shoes_new.select('id', 'category', 'avg_discount_category') \\\n",
    "                          .union(df_jewelry_new.select('id', 'category', 'avg_discount_category')) \\\n",
    "                          .union(df_accessories_new.select('id', 'category', 'avg_discount_category'))\n",
    "\n",
    "df_combined.filter(df_combined.avg_discount_category.isNotNull()) \\\n",
    "           .orderBy(f.desc('avg_discount_category')) \\\n",
    "           .limit(1) \\\n",
    "           .select('category', 'avg_discount_category') \\\n",
    "           .show()"
   ]
  },
  {
   "cell_type": "code",
   "execution_count": null,
   "id": "eW0upmbp5P5M",
   "metadata": {
    "id": "eW0upmbp5P5M"
   },
   "outputs": [],
   "source": []
  },
  {
   "cell_type": "markdown",
   "id": "l_2zNDVt5P5M",
   "metadata": {
    "id": "l_2zNDVt5P5M"
   },
   "source": [
    "### Which type of product had the lowest discount offerings"
   ]
  },
  {
   "cell_type": "code",
   "execution_count": 31,
   "id": "tWJad05R5P5M",
   "metadata": {
    "id": "tWJad05R5P5M"
   },
   "outputs": [
    {
     "name": "stdout",
     "output_type": "stream",
     "text": [
      "+-----------+---------------------+\n",
      "|   category|avg_discount_category|\n",
      "+-----------+---------------------+\n",
      "|accessories|    50.75762818496383|\n",
      "+-----------+---------------------+\n",
      "\n"
     ]
    }
   ],
   "source": [
    "from pyspark.sql import functions as f  #assumed product means category not subcategory\n",
    "\n",
    "df_combined = df_shoes_new.select('id', 'category', 'avg_discount_category') \\\n",
    "                          .union(df_jewelry_new.select('id', 'category', 'avg_discount_category')) \\\n",
    "                          .union(df_accessories_new.select('id', 'category', 'avg_discount_category'))\n",
    "\n",
    "df_combined.filter(df_combined.avg_discount_category.isNotNull()) \\\n",
    "           .orderBy(f.asc('avg_discount_category')) \\\n",
    "           .limit(1) \\\n",
    "           .select('category', 'avg_discount_category') \\\n",
    "           .show()"
   ]
  },
  {
   "cell_type": "code",
   "execution_count": null,
   "id": "80Fl3cA85P5M",
   "metadata": {
    "id": "80Fl3cA85P5M"
   },
   "outputs": [],
   "source": []
  },
  {
   "cell_type": "markdown",
   "id": "GssdtnXN5P5M",
   "metadata": {
    "id": "GssdtnXN5P5M"
   },
   "source": [
    "### In the men's products, which subcategory was the most common."
   ]
  },
  {
   "cell_type": "code",
   "execution_count": 32,
   "id": "Ay_AsRcS5P5M",
   "metadata": {
    "id": "Ay_AsRcS5P5M"
   },
   "outputs": [
    {
     "name": "stdout",
     "output_type": "stream",
     "text": [
      "+-----------+-----+\n",
      "|subcategory|count|\n",
      "+-----------+-----+\n",
      "|  Mocassins| 1703|\n",
      "+-----------+-----+\n",
      "\n"
     ]
    }
   ],
   "source": [
    "#assumed men's products are shoes\n",
    "df_shoes_new.groupBy(df_shoes_new.subcategory)\\\n",
    "            .agg(f.count('subcategory').alias('count'))\\\n",
    "            .orderBy(f.desc('count'))\\\n",
    "            .limit(1)\\\n",
    "            .select('subcategory','count')\\\n",
    "            .show()"
   ]
  },
  {
   "cell_type": "code",
   "execution_count": null,
   "id": "6VvDmN075P5N",
   "metadata": {
    "id": "6VvDmN075P5N"
   },
   "outputs": [],
   "source": []
  },
  {
   "cell_type": "markdown",
   "id": "JAXgAerG5P5N",
   "metadata": {
    "id": "JAXgAerG5P5N"
   },
   "source": [
    "### Which type of product had the most unused products listed for sale"
   ]
  },
  {
   "cell_type": "code",
   "execution_count": 33,
   "id": "B169_zAK5P5N",
   "metadata": {
    "id": "B169_zAK5P5N"
   },
   "outputs": [
    {
     "name": "stdout",
     "output_type": "stream",
     "text": [
      "+--------+-------------------+\n",
      "|category|sum_unused_category|\n",
      "+--------+-------------------+\n",
      "|   shoes|                271|\n",
      "+--------+-------------------+\n",
      "\n"
     ]
    }
   ],
   "source": [
    "\n",
    "df_combined = df_shoes_new.select('id', 'category', 'sum_unused_category') \\\n",
    "                          .union(df_jewelry_new.select('id', 'category', 'sum_unused_category')) \\\n",
    "                          .union(df_accessories_new.select('id', 'category', 'sum_unused_category'))\n",
    "\n",
    "df_combined.filter(df_combined.sum_unused_category.isNotNull()) \\\n",
    "           .orderBy(f.desc('sum_unused_category')) \\\n",
    "           .limit(1) \\\n",
    "           .select('category', 'sum_unused_category') \\\n",
    "           .show()"
   ]
  },
  {
   "cell_type": "code",
   "execution_count": null,
   "id": "xmSv8Ex15P5N",
   "metadata": {
    "id": "xmSv8Ex15P5N"
   },
   "outputs": [],
   "source": []
  },
  {
   "cell_type": "markdown",
   "id": "M9m-tJjQ5P5N",
   "metadata": {
    "id": "M9m-tJjQ5P5N"
   },
   "source": [
    "### Which subcategory product  had the most unused products listed for sale"
   ]
  },
  {
   "cell_type": "code",
   "execution_count": 34,
   "id": "OakSEhPb5P5N",
   "metadata": {
    "id": "OakSEhPb5P5N"
   },
   "outputs": [
    {
     "name": "stdout",
     "output_type": "stream",
     "text": [
      "+-----------+----------------------+\n",
      "|subcategory|sum_unused_subcategory|\n",
      "+-----------+----------------------+\n",
      "|Baskets    |68                    |\n",
      "+-----------+----------------------+\n",
      "\n"
     ]
    }
   ],
   "source": [
    "df_combined = df_shoes_new.select('id', 'subcategory', 'sum_unused_subcategory') \\\n",
    "                          .union(df_jewelry_new.select('id', 'subcategory', 'sum_unused_subcategory')) \\\n",
    "                          .union(df_accessories_new.select('id', 'subcategory', 'sum_unused_subcategory'))\n",
    "\n",
    "df_combined.filter(df_combined.sum_unused_subcategory.isNotNull()) \\\n",
    "           .orderBy(f.desc('sum_unused_subcategory')) \\\n",
    "           .limit(1) \\\n",
    "           .select('subcategory', 'sum_unused_subcategory' ) \\\n",
    "           .show(truncate=False)"
   ]
  },
  {
   "cell_type": "code",
   "execution_count": null,
   "id": "tDpeaxsy5P5N",
   "metadata": {
    "id": "tDpeaxsy5P5N"
   },
   "outputs": [],
   "source": []
  },
  {
   "cell_type": "markdown",
   "id": "ayVrZ1SrOXf1",
   "metadata": {
    "id": "ayVrZ1SrOXf1"
   },
   "source": [
    "## - Partition and Load transformed datasets into HDFS.\n",
    "\n",
    "For each dataframe you have transformed earlier make sure to do the following.\n",
    "- Re-partition the dataframe into n partitions.\n",
    "\t- How should I choose the number of partitions? I suggest to you review the lecture and lab notes. You must justify the number of partitions you chose. ( A simple text cell in the notebook would suffice)\n"
   ]
  },
  {
   "cell_type": "code",
   "execution_count": 35,
   "id": "22aM1ybuOfRV",
   "metadata": {
    "id": "22aM1ybuOfRV"
   },
   "outputs": [
    {
     "name": "stdout",
     "output_type": "stream",
     "text": [
      "Number of cores in the cluster: 8\n"
     ]
    }
   ],
   "source": [
    "from pyspark import SparkContext\n",
    "\n",
    "sc = SparkContext.getOrCreate()\n",
    "\n",
    "# Get the number of cores in the cluster\n",
    "num_cores = sc.defaultParallelism\n",
    "\n",
    "print(f\"Number of cores in the cluster: {num_cores}\")\n"
   ]
  },
  {
   "cell_type": "code",
   "execution_count": 36,
   "id": "364951f0",
   "metadata": {},
   "outputs": [],
   "source": [
    "## - chose 16 partitions because we have 8 available cores in the Spark cluster, and a common best practice is to set the number of partitions to at least double the number of cores. \n",
    "## - This ensures efficient parallelism without overloading the system."
   ]
  },
  {
   "cell_type": "code",
   "execution_count": 37,
   "id": "VvgHRv1-OiXv",
   "metadata": {
    "id": "VvgHRv1-OiXv"
   },
   "outputs": [],
   "source": [
    "# Re-partition the dataframe into 16 partitions (or whatever number you choose)\n",
    "df_repartitioned = df_accessories_new.repartition(16)\n",
    "df2_repartitioned = df_shoes_new.repartition(16)\n",
    "df3_repartitioned = df_jewelry_new.repartition(16)"
   ]
  },
  {
   "cell_type": "markdown",
   "id": "FsWzNtOYOi4f",
   "metadata": {
    "id": "FsWzNtOYOi4f"
   },
   "source": [
    "- Choose a column to partition the dataframe by and load it into hdfs as parquet file(s).\n",
    "\t- How should I choose the column to partition by? Make sure not to choose a column with a high cardinality as this would render the partition useless (You would have to many partitions with small data size). Instead make sure to choose a column that could be frequently used for analysis and does not have a very high cardinality."
   ]
  },
  {
   "cell_type": "code",
   "execution_count": 38,
   "id": "7UFLW-djOpVy",
   "metadata": {
    "id": "7UFLW-djOpVy"
   },
   "outputs": [
    {
     "name": "stderr",
     "output_type": "stream",
     "text": [
      "25/01/28 15:03:20 WARN MemoryManager: Total allocation exceeds 95.00% (1,020,054,720 bytes) of heap memory\n",
      "Scaling row group sizes to 95.00% for 8 writers\n",
      "25/01/28 15:03:22 WARN MemoryManager: Total allocation exceeds 95.00% (1,020,054,720 bytes) of heap memory\n",
      "Scaling row group sizes to 95.00% for 8 writers\n",
      "25/01/28 15:03:26 WARN MemoryManager: Total allocation exceeds 95.00% (1,020,054,720 bytes) of heap memory\n",
      "Scaling row group sizes to 95.00% for 8 writers\n",
      "25/01/28 15:03:30 WARN MemoryManager: Total allocation exceeds 95.00% (1,020,054,720 bytes) of heap memory\n",
      "Scaling row group sizes to 95.00% for 8 writers\n",
      "                                                                                "
     ]
    }
   ],
   "source": [
    "# Write the dataframe to HDFS in Parquet format, partitioned by the 'category' column as it doent have high cardinality values\n",
    "df_repartitioned.write.partitionBy(\"category\").parquet(\"hdfs://namenode-master/accessories.parquet\")\n",
    "df3_repartitioned.write.partitionBy(\"category\").parquet(\"hdfs://namenode-master/jewelry.parquet\")\n",
    "df2_repartitioned.write.partitionBy(\"category\").parquet(\"hdfs://namenode-master/shoes.parquet\")\n"
   ]
  },
  {
   "cell_type": "code",
   "execution_count": null,
   "id": "y5gXthVuOpoh",
   "metadata": {
    "id": "y5gXthVuOpoh"
   },
   "outputs": [],
   "source": []
  },
  {
   "cell_type": "markdown",
   "id": "OziYL0ww5P5O",
   "metadata": {
    "id": "OziYL0ww5P5O"
   },
   "source": [
    "## Bonus - Load into postgres database.\n",
    "\n",
    "For this task you will primarily need 2 things.\n",
    "- Creating a new service in your docker compose file for postgres.\n",
    "- Placing the necessary drivers to be able to connect spark to postgres.\n",
    "\n",
    "Load your dataframes as 3 different tables in the database.\n"
   ]
  },
  {
   "cell_type": "code",
   "execution_count": 39,
   "id": "6d27a392",
   "metadata": {},
   "outputs": [
    {
     "name": "stderr",
     "output_type": "stream",
     "text": [
      "25/01/28 15:03:45 WARN SparkSession: Using an existing Spark session; only runtime SQL configurations will take effect.\n"
     ]
    }
   ],
   "source": [
    "spark = SparkSession.builder \\\n",
    "    .appName(\"Postgres Connection\") \\\n",
    "    .config(\"spark.jars\", \"/path/to/postgresql-42.3.3.jar\") \\\n",
    "    .getOrCreate()\n"
   ]
  },
  {
   "cell_type": "code",
   "execution_count": 41,
   "id": "05e55ebd-9917-4276-94a9-0837545ec25b",
   "metadata": {},
   "outputs": [
    {
     "name": "stdout",
     "output_type": "stream",
     "text": [
      "Collecting sqlalchemy\n",
      "  Downloading SQLAlchemy-2.0.37-cp310-cp310-manylinux_2_17_x86_64.manylinux2014_x86_64.whl (3.1 MB)\n",
      "\u001b[2K     \u001b[90m━━━━━━━━━━━━━━━━━━━━━━━━━━━━━━━━━━━━━━━━\u001b[0m \u001b[32m3.1/3.1 MB\u001b[0m \u001b[31m3.5 MB/s\u001b[0m eta \u001b[36m0:00:00\u001b[0m00:01\u001b[0m00:01\u001b[0m\n",
      "Collecting greenlet!=0.4.17\n",
      "  Downloading greenlet-3.1.1-cp310-cp310-manylinux_2_24_x86_64.manylinux_2_28_x86_64.whl (599 kB)\n",
      "\u001b[2K     \u001b[90m━━━━━━━━━━━━━━━━━━━━━━━━━━━━━━━━━━━━━━━\u001b[0m \u001b[32m599.5/599.5 kB\u001b[0m \u001b[31m3.8 MB/s\u001b[0m eta \u001b[36m0:00:00\u001b[0ma \u001b[36m0:00:01\u001b[0m\n",
      "\u001b[?25hRequirement already satisfied: typing-extensions>=4.6.0 in /usr/local/lib/python3.10/site-packages (from sqlalchemy) (4.12.2)\n",
      "Installing collected packages: greenlet, sqlalchemy\n",
      "Successfully installed greenlet-3.1.1 sqlalchemy-2.0.37\n",
      "\u001b[33mWARNING: Running pip as the 'root' user can result in broken permissions and conflicting behaviour with the system package manager. It is recommended to use a virtual environment instead: https://pip.pypa.io/warnings/venv\u001b[0m\u001b[33m\n",
      "\u001b[0m\n",
      "\u001b[1m[\u001b[0m\u001b[34;49mnotice\u001b[0m\u001b[1;39;49m]\u001b[0m\u001b[39;49m A new release of pip is available: \u001b[0m\u001b[31;49m23.0.1\u001b[0m\u001b[39;49m -> \u001b[0m\u001b[32;49m25.0\u001b[0m\n",
      "\u001b[1m[\u001b[0m\u001b[34;49mnotice\u001b[0m\u001b[1;39;49m]\u001b[0m\u001b[39;49m To update, run: \u001b[0m\u001b[32;49mpip install --upgrade pip\u001b[0m\n",
      "Note: you may need to restart the kernel to use updated packages.\n"
     ]
    }
   ],
   "source": [
    "pip install sqlalchemy\n"
   ]
  },
  {
   "cell_type": "code",
   "execution_count": 48,
   "id": "4175be93-9530-47f3-808e-6c8c4cbb526e",
   "metadata": {},
   "outputs": [
    {
     "name": "stdout",
     "output_type": "stream",
     "text": [
      "Collecting hdfs\n",
      "  Downloading hdfs-2.7.3.tar.gz (43 kB)\n",
      "\u001b[2K     \u001b[90m━━━━━━━━━━━━━━━━━━━━━━━━━━━━━━━━━━━━━━━\u001b[0m \u001b[32m43.5/43.5 kB\u001b[0m \u001b[31m681.2 kB/s\u001b[0m eta \u001b[36m0:00:00\u001b[0m \u001b[36m0:00:01\u001b[0m\n",
      "  Preparing metadata (setup.py) ... \u001b[?25ldone\n",
      "\u001b[?25hCollecting docopt\n",
      "  Downloading docopt-0.6.2.tar.gz (25 kB)\n",
      "  Preparing metadata (setup.py) ... \u001b[?25ldone\n",
      "\u001b[?25hRequirement already satisfied: requests>=2.7.0 in /usr/local/lib/python3.10/site-packages (from hdfs) (2.32.3)\n",
      "Requirement already satisfied: six>=1.9.0 in /usr/local/lib/python3.10/site-packages (from hdfs) (1.17.0)\n",
      "Requirement already satisfied: charset-normalizer<4,>=2 in /usr/local/lib/python3.10/site-packages (from requests>=2.7.0->hdfs) (3.4.0)\n",
      "Requirement already satisfied: certifi>=2017.4.17 in /usr/local/lib/python3.10/site-packages (from requests>=2.7.0->hdfs) (2024.8.30)\n",
      "Requirement already satisfied: urllib3<3,>=1.21.1 in /usr/local/lib/python3.10/site-packages (from requests>=2.7.0->hdfs) (2.2.3)\n",
      "Requirement already satisfied: idna<4,>=2.5 in /usr/local/lib/python3.10/site-packages (from requests>=2.7.0->hdfs) (3.10)\n",
      "Building wheels for collected packages: hdfs, docopt\n",
      "  Building wheel for hdfs (setup.py) ... \u001b[?25done\n",
      "\u001b[?25h  Created wheel for hdfs: filename=hdfs-2.7.3-py3-none-any.whl size=34325 sha256=7b5ee6b01f33e3f71763434b771dabd800f8b886d7ab4d12d4ee1e84de7fd5cb\n",
      "  Stored in directory: /root/.cache/pip/wheels/e5/8d/b6/99c1c0a3ac5788c866b0ecd3f48b0134a5910e6ed26011800b\n",
      "  Building wheel for docopt (setup.py) ... \u001b[?25done\n",
      "\u001b[?25h  Created wheel for docopt: filename=docopt-0.6.2-py2.py3-none-any.whl size=13706 sha256=966dad70177e4f854133fb1bd72fc0657ec91e7ca66ad78db8fb21b9a3e1545a\n",
      "  Stored in directory: /root/.cache/pip/wheels/fc/ab/d4/5da2067ac95b36618c629a5f93f809425700506f72c9732fac\n",
      "Successfully built hdfs docopt\n",
      "Installing collected packages: docopt, hdfs\n",
      "Successfully installed docopt-0.6.2 hdfs-2.7.3\n",
      "\u001b[33mWARNING: Running pip as the 'root' user can result in broken permissions and conflicting behaviour with the system package manager. It is recommended to use a virtual environment instead: https://pip.pypa.io/warnings/venv\u001b[0m\u001b[33m\n",
      "\u001b[0m\n",
      "\u001b[1m[\u001b[0m\u001b[34;49mnotice\u001b[0m\u001b[1;39;49m]\u001b[0m\u001b[39;49m A new release of pip is available: \u001b[0m\u001b[31;49m23.0.1\u001b[0m\u001b[39;49m -> \u001b[0m\u001b[32;49m25.0\u001b[0m\n",
      "\u001b[1m[\u001b[0m\u001b[34;49mnotice\u001b[0m\u001b[1;39;49m]\u001b[0m\u001b[39;49m To update, run: \u001b[0m\u001b[32;49mpip install --upgrade pip\u001b[0m\n",
      "Note: you may need to restart the kernel to use updated packages.\n"
     ]
    }
   ],
   "source": [
    "pip install hdfs\n"
   ]
  },
  {
   "cell_type": "code",
   "execution_count": 52,
   "id": "872051bf",
   "metadata": {},
   "outputs": [],
   "source": [
    "from hdfs import InsecureClient\n",
    "import pandas as pd\n",
    "from sqlalchemy import create_engine\n",
    "\n",
    "def load_to_db(postgres_opt: dict, hdfs_path: str, cleaned_table: str):\n",
    "    # Connect to HDFS\n",
    "    hdfs_client = InsecureClient('http://namenode-master:50070')  # Replace with your HDFS URL\n",
    "    \n",
    "    # Read the Parquet file from HDFS into a pandas DataFrame\n",
    "    with hdfs_client.read(hdfs_path, encoding='utf-8') as reader:\n",
    "        cleaned_df = pd.read_parquet(reader)\n",
    "    \n",
    "    # Extract database connection details\n",
    "    user, password, host, port, db = postgres_opt.values()\n",
    "    \n",
    "    # Create the engine to connect to the PostgreSQL database\n",
    "    engine = create_engine(f'postgresql://{user}:{password}@{host}:{port}/{db}')\n",
    "    \n",
    "    # Load cleaned_df into PostgreSQL (as a table)\n",
    "    cleaned_df.to_sql(cleaned_table, engine, if_exists='replace', index=False)\n",
    "    print(f\"{hdfs_path} has been loaded into the database table: {cleaned_table}\")\n"
   ]
  },
  {
   "cell_type": "code",
   "execution_count": 45,
   "id": "6fff7334-6905-4795-a747-dd1e54e4477c",
   "metadata": {},
   "outputs": [
    {
     "name": "stdout",
     "output_type": "stream",
     "text": [
      "Collecting apache-airflow\n",
      "  Downloading apache_airflow-2.10.4-py3-none-any.whl (13.4 MB)\n",
      "\u001b[2K     \u001b[90m━━━━━━━━━━━━━━━━━━━━━━━━━━━━━━━━━━━━━━━━\u001b[0m \u001b[32m13.4/13.4 MB\u001b[0m \u001b[31m3.7 MB/s\u001b[0m eta \u001b[36m0:00:00\u001b[0m00:01\u001b[0m00:01\u001b[0m\n",
      "Collecting apache-airflow-providers-common-sql\n",
      "  Downloading apache_airflow_providers_common_sql-1.21.0-py3-none-any.whl (49 kB)\n",
      "\u001b[2K     \u001b[90m━━━━━━━━━━━━━━━━━━━━━━━━━━━━━━━━━━━━━━━━\u001b[0m \u001b[32m49.9/49.9 kB\u001b[0m \u001b[31m3.1 MB/s\u001b[0m eta \u001b[36m0:00:00\u001b[0m\n",
      "Collecting google-re2>=1.0\n",
      "  Downloading google_re2-1.1.20240702-1-cp310-cp310-manylinux_2_24_x86_64.manylinux_2_28_x86_64.whl (546 kB)\n",
      "\u001b[2K     \u001b[90m━━━━━━━━━━━━━━━━━━━━━━━━━━━━━━━━━━━━━━━\u001b[0m \u001b[32m546.8/546.8 kB\u001b[0m \u001b[31m3.4 MB/s\u001b[0m eta \u001b[36m0:00:00\u001b[0ma \u001b[36m0:00:01\u001b[0m\n",
      "\u001b[?25hRequirement already satisfied: packaging>=23.0 in /usr/local/lib/python3.10/site-packages (from apache-airflow) (24.2)\n",
      "Collecting flask<2.3,>=2.2.1\n",
      "  Downloading Flask-2.2.5-py3-none-any.whl (101 kB)\n",
      "\u001b[2K     \u001b[90m━━━━━━━━━━━━━━━━━━━━━━━━━━━━━━━━━━━━━━━\u001b[0m \u001b[32m101.8/101.8 kB\u001b[0m \u001b[31m3.2 MB/s\u001b[0m eta \u001b[36m0:00:00\u001b[0m\n",
      "Collecting pendulum<4.0,>=2.1.2\n",
      "  Downloading pendulum-3.0.0-cp310-cp310-manylinux_2_17_x86_64.manylinux2014_x86_64.whl (384 kB)\n",
      "\u001b[2K     \u001b[90m━━━━━━━━━━━━━━━━━━━━━━━━━━━━━━━━━━━━━━━\u001b[0m \u001b[32m384.9/384.9 kB\u001b[0m \u001b[31m2.8 MB/s\u001b[0m eta \u001b[36m0:00:00\u001b[0ma \u001b[36m0:00:01\u001b[0m\n",
      "Collecting linkify-it-py>=2.0.0\n",
      "  Downloading linkify_it_py-2.0.3-py3-none-any.whl (19 kB)\n",
      "Collecting argcomplete>=1.10\n",
      "  Downloading argcomplete-3.5.3-py3-none-any.whl (43 kB)\n",
      "\u001b[2K     \u001b[90m━━━━━━━━━━━━━━━━━━━━━━━━━━━━━━━━━━━━━━━━\u001b[0m \u001b[32m43.6/43.6 kB\u001b[0m \u001b[31m3.4 MB/s\u001b[0m eta \u001b[36m0:00:00\u001b[0m\n",
      "Collecting flask-caching>=2.0.0\n",
      "  Downloading Flask_Caching-2.3.0-py3-none-any.whl (28 kB)\n",
      "Collecting pathspec>=0.9.0\n",
      "  Downloading pathspec-0.12.1-py3-none-any.whl (31 kB)\n",
      "Collecting methodtools>=0.4.7\n",
      "  Downloading methodtools-0.4.7-py2.py3-none-any.whl (4.0 kB)\n",
      "Collecting apache-airflow-providers-common-compat\n",
      "  Downloading apache_airflow_providers_common_compat-1.3.0-py3-none-any.whl (24 kB)\n",
      "Collecting python-slugify>=5.0\n",
      "  Downloading python_slugify-8.0.4-py2.py3-none-any.whl (10 kB)\n",
      "Collecting pyjwt>=2.0.0\n",
      "  Downloading PyJWT-2.10.1-py3-none-any.whl (22 kB)\n",
      "Collecting tenacity!=8.2.0,>=8.0.0\n",
      "  Downloading tenacity-9.0.0-py3-none-any.whl (28 kB)\n",
      "Collecting mdit-py-plugins>=0.3.0\n",
      "  Downloading mdit_py_plugins-0.4.2-py3-none-any.whl (55 kB)\n",
      "\u001b[2K     \u001b[90m━━━━━━━━━━━━━━━━━━━━━━━━━━━━━━━━━━━━━━━━\u001b[0m \u001b[32m55.3/55.3 kB\u001b[0m \u001b[31m3.7 MB/s\u001b[0m eta \u001b[36m0:00:00\u001b[0m\n",
      "Collecting opentelemetry-api>=1.24.0\n",
      "  Downloading opentelemetry_api-1.29.0-py3-none-any.whl (64 kB)\n",
      "\u001b[2K     \u001b[90m━━━━━━━━━━━━━━━━━━━━━━━━━━━━━━━━━━━━━━━━\u001b[0m \u001b[32m64.3/64.3 kB\u001b[0m \u001b[31m3.0 MB/s\u001b[0m eta \u001b[36m0:00:00\u001b[0m\n",
      "Collecting rich>=12.4.4\n",
      "  Downloading rich-13.9.4-py3-none-any.whl (242 kB)\n",
      "\u001b[2K     \u001b[90m━━━━━━━━━━━━━━━━━━━━━━━━━━━━━━━━━━━━━━━\u001b[0m \u001b[32m242.4/242.4 kB\u001b[0m \u001b[31m3.5 MB/s\u001b[0m eta \u001b[36m0:00:00\u001b[0ma \u001b[36m0:00:01\u001b[0m\n",
      "Collecting flask-wtf>=1.1.0\n",
      "  Downloading flask_wtf-1.2.2-py3-none-any.whl (12 kB)\n",
      "Requirement already satisfied: jsonschema>=4.18.0 in /usr/local/lib/python3.10/site-packages (from apache-airflow) (4.23.0)\n",
      "Collecting termcolor>=1.1.0\n",
      "  Downloading termcolor-2.5.0-py3-none-any.whl (7.8 kB)\n",
      "Requirement already satisfied: requests<3,>=2.27.0 in /usr/local/lib/python3.10/site-packages (from apache-airflow) (2.32.3)\n",
      "Requirement already satisfied: attrs>=22.1.0 in /usr/local/lib/python3.10/site-packages (from apache-airflow) (24.2.0)\n",
      "Collecting dill>=0.2.2\n",
      "  Downloading dill-0.3.9-py3-none-any.whl (119 kB)\n",
      "\u001b[2K     \u001b[90m━━━━━━━━━━━━━━━━━━━━━━━━━━━━━━━━━━━━━━━\u001b[0m \u001b[32m119.4/119.4 kB\u001b[0m \u001b[31m3.4 MB/s\u001b[0m eta \u001b[36m0:00:00\u001b[0m\n",
      "\u001b[?25hRequirement already satisfied: httpx>=0.25.0 in /usr/local/lib/python3.10/site-packages (from apache-airflow) (0.28.1)\n",
      "Collecting configupdater>=3.1.1\n",
      "  Downloading ConfigUpdater-3.2-py2.py3-none-any.whl (34 kB)\n",
      "Collecting flask-session<0.6,>=0.4.0\n",
      "  Downloading flask_session-0.5.0-py3-none-any.whl (7.2 kB)\n",
      "Collecting python-daemon>=3.0.0\n",
      "  Downloading python_daemon-3.1.2-py3-none-any.whl (30 kB)\n",
      "Collecting werkzeug<3,>=2.0\n",
      "  Downloading werkzeug-2.3.8-py3-none-any.whl (242 kB)\n",
      "\u001b[2K     \u001b[90m━━━━━━━━━━━━━━━━━━━━━━━━━━━━━━━━━━━━━━━\u001b[0m \u001b[32m242.3/242.3 kB\u001b[0m \u001b[31m3.5 MB/s\u001b[0m eta \u001b[36m0:00:00\u001b[0ma \u001b[36m0:00:01\u001b[0m\n",
      "Collecting blinker>=1.6.2\n",
      "  Downloading blinker-1.9.0-py3-none-any.whl (8.5 kB)\n",
      "Collecting connexion[flask]<3.0,>=2.14.2\n",
      "  Downloading connexion-2.14.2-py2.py3-none-any.whl (95 kB)\n",
      "\u001b[2K     \u001b[90m━━━━━━━━━━━━━━━━━━━━━━━━━━━━━━━━━━━━━━━━\u001b[0m \u001b[32m95.1/95.1 kB\u001b[0m \u001b[31m4.7 MB/s\u001b[0m eta \u001b[36m0:00:00\u001b[0m\n",
      "Collecting gunicorn>=20.1.0\n",
      "  Downloading gunicorn-23.0.0-py3-none-any.whl (85 kB)\n",
      "\u001b[2K     \u001b[90m━━━━━━━━━━━━━━━━━━━━━━━━━━━━━━━━━━━━━━━━\u001b[0m \u001b[32m85.0/85.0 kB\u001b[0m \u001b[31m3.8 MB/s\u001b[0m eta \u001b[36m0:00:00\u001b[0m\n",
      "\u001b[?25hRequirement already satisfied: psutil>=5.8.0 in /usr/local/lib/python3.10/site-packages (from apache-airflow) (6.1.0)\n",
      "Requirement already satisfied: jinja2>=3.0.0 in /usr/local/lib/python3.10/site-packages (from apache-airflow) (3.1.4)\n",
      "Requirement already satisfied: python-dateutil>=2.7.0 in /usr/local/lib/python3.10/site-packages (from apache-airflow) (2.9.0.post0)\n",
      "Collecting python-nvd3>=0.15.0\n",
      "  Downloading python-nvd3-0.16.0.tar.gz (34 kB)\n",
      "  Preparing metadata (setup.py) ... \u001b[?25ldone\n",
      "\u001b[?25hCollecting sqlalchemy-jsonfield>=1.0\n",
      "  Downloading SQLAlchemy_JSONField-1.0.2-py3-none-any.whl (10 kB)\n",
      "Collecting universal-pathlib!=0.2.4,>=0.2.2\n",
      "  Downloading universal_pathlib-0.2.6-py3-none-any.whl (50 kB)\n",
      "\u001b[2K     \u001b[90m━━━━━━━━━━━━━━━━━━━━━━━━━━━━━━━━━━━━━━━━\u001b[0m \u001b[32m50.1/50.1 kB\u001b[0m \u001b[31m2.6 MB/s\u001b[0m eta \u001b[36m0:00:00\u001b[0m\n",
      "Collecting apache-airflow-providers-http\n",
      "  Downloading apache_airflow_providers_http-5.0.0-py3-none-any.whl (27 kB)\n",
      "Collecting asgiref>=2.3.0\n",
      "  Downloading asgiref-3.8.1-py3-none-any.whl (23 kB)\n",
      "Collecting lazy-object-proxy>=1.2.0\n",
      "  Downloading lazy_object_proxy-1.10.0-cp310-cp310-manylinux_2_5_x86_64.manylinux1_x86_64.manylinux_2_17_x86_64.manylinux2014_x86_64.whl (68 kB)\n",
      "\u001b[2K     \u001b[90m━━━━━━━━━━━━━━━━━━━━━━━━━━━━━━━━━━━━━━━━\u001b[0m \u001b[32m68.3/68.3 kB\u001b[0m \u001b[31m3.1 MB/s\u001b[0m eta \u001b[36m0:00:00\u001b[0m\n",
      "\u001b[?25hRequirement already satisfied: rfc3339-validator>=0.1.4 in /usr/local/lib/python3.10/site-packages (from apache-airflow) (0.1.4)\n",
      "Collecting setproctitle>=1.3.3\n",
      "  Downloading setproctitle-1.3.4-cp310-cp310-manylinux_2_5_x86_64.manylinux1_x86_64.manylinux_2_17_x86_64.manylinux2014_x86_64.whl (30 kB)\n",
      "Collecting importlib_metadata>=6.5\n",
      "  Downloading importlib_metadata-8.6.1-py3-none-any.whl (26 kB)\n",
      "Collecting opentelemetry-exporter-otlp>=1.24.0\n",
      "  Downloading opentelemetry_exporter_otlp-1.29.0-py3-none-any.whl (7.0 kB)\n",
      "Collecting apache-airflow-providers-common-io\n",
      "  Downloading apache_airflow_providers_common_io-1.5.0-py3-none-any.whl (19 kB)\n",
      "Collecting apache-airflow-providers-ftp\n",
      "  Downloading apache_airflow_providers_ftp-3.12.0-py3-none-any.whl (19 kB)\n",
      "Collecting cron-descriptor>=1.2.24\n",
      "  Downloading cron_descriptor-1.4.5-py3-none-any.whl (50 kB)\n",
      "\u001b[2K     \u001b[90m━━━━━━━━━━━━━━━━━━━━━━━━━━━━━━━━━━━━━━━━\u001b[0m \u001b[32m50.4/50.4 kB\u001b[0m \u001b[31m1.0 MB/s\u001b[0m eta \u001b[36m0:00:00\u001b[0ma \u001b[36m0:00:01\u001b[0m\n",
      "Collecting cryptography>=41.0.0\n",
      "  Downloading cryptography-44.0.0-cp39-abi3-manylinux_2_28_x86_64.whl (4.2 MB)\n",
      "\u001b[2K     \u001b[90m━━━━━━━━━━━━━━━━━━━━━━━━━━━━━━━━━━━━━━━━\u001b[0m \u001b[32m4.2/4.2 MB\u001b[0m \u001b[31m3.8 MB/s\u001b[0m eta \u001b[36m0:00:00\u001b[0m00:01\u001b[0m00:01\u001b[0m\n",
      "Collecting lockfile>=0.12.2\n",
      "  Downloading lockfile-0.12.2-py2.py3-none-any.whl (13 kB)\n",
      "Collecting markdown-it-py>=2.1.0\n",
      "  Downloading markdown_it_py-3.0.0-py3-none-any.whl (87 kB)\n",
      "\u001b[2K     \u001b[90m━━━━━━━━━━━━━━━━━━━━━━━━━━━━━━━━━━━━━━━━\u001b[0m \u001b[32m87.5/87.5 kB\u001b[0m \u001b[31m3.2 MB/s\u001b[0m eta \u001b[36m0:00:00\u001b[0m\n",
      "\u001b[?25hRequirement already satisfied: markupsafe>=1.1.1 in /usr/local/lib/python3.10/site-packages (from apache-airflow) (3.0.2)\n",
      "Collecting fsspec>=2023.10.0\n",
      "  Downloading fsspec-2024.12.0-py3-none-any.whl (183 kB)\n",
      "\u001b[2K     \u001b[90m━━━━━━━━━━━━━━━━━━━━━━━━━━━━━━━━━━━━━━━\u001b[0m \u001b[32m183.9/183.9 kB\u001b[0m \u001b[31m3.2 MB/s\u001b[0m eta \u001b[36m0:00:00\u001b[0ma \u001b[36m0:00:01\u001b[0m\n",
      "Collecting deprecated>=1.2.13\n",
      "  Downloading Deprecated-1.2.18-py2.py3-none-any.whl (10.0 kB)\n",
      "Requirement already satisfied: pygments>=2.0.1 in /usr/local/lib/python3.10/site-packages (from apache-airflow) (2.18.0)\n",
      "Collecting tabulate>=0.7.5\n",
      "  Downloading tabulate-0.9.0-py3-none-any.whl (35 kB)\n",
      "Collecting apache-airflow-providers-fab>=1.0.2\n",
      "  Downloading apache_airflow_providers_fab-1.5.2-py3-none-any.whl (97 kB)\n",
      "\u001b[2K     \u001b[90m━━━━━━━━━━━━━━━━━━━━━━━━━━━━━━━━━━━━━━━━\u001b[0m \u001b[32m97.8/97.8 kB\u001b[0m \u001b[31m3.1 MB/s\u001b[0m eta \u001b[36m0:00:00\u001b[0m\n",
      "Collecting sqlalchemy<2.0,>=1.4.36\n",
      "  Downloading SQLAlchemy-1.4.54-cp310-cp310-manylinux_2_5_x86_64.manylinux1_x86_64.manylinux_2_17_x86_64.manylinux2014_x86_64.whl (1.6 MB)\n",
      "\u001b[2K     \u001b[90m━━━━━━━━━━━━━━━━━━━━━━━━━━━━━━━━━━━━━━━━\u001b[0m \u001b[32m1.6/1.6 MB\u001b[0m \u001b[31m3.6 MB/s\u001b[0m eta \u001b[36m0:00:00\u001b[0ma \u001b[36m0:00:01\u001b[0m\n",
      "Collecting apache-airflow-providers-sqlite\n",
      "  Downloading apache_airflow_providers_sqlite-4.0.0-py3-none-any.whl (12 kB)\n",
      "Collecting marshmallow-oneofschema>=2.0.1\n",
      "  Downloading marshmallow_oneofschema-3.1.1-py3-none-any.whl (5.7 kB)\n",
      "Collecting pluggy>=1.5.0\n",
      "  Downloading pluggy-1.5.0-py3-none-any.whl (20 kB)\n",
      "Collecting apache-airflow-providers-smtp\n",
      "  Downloading apache_airflow_providers_smtp-1.9.0-py3-none-any.whl (22 kB)\n",
      "Collecting croniter>=2.0.2\n",
      "  Downloading croniter-6.0.0-py2.py3-none-any.whl (25 kB)\n",
      "Collecting apache-airflow-providers-imap\n",
      "  Downloading apache_airflow_providers_imap-3.8.0-py3-none-any.whl (17 kB)\n",
      "Collecting rich-argparse>=1.0.0\n",
      "  Downloading rich_argparse-1.6.0-py3-none-any.whl (20 kB)\n",
      "Collecting alembic<2.0,>=1.13.1\n",
      "  Downloading alembic-1.14.1-py3-none-any.whl (233 kB)\n",
      "\u001b[2K     \u001b[90m━━━━━━━━━━━━━━━━━━━━━━━━━━━━━━━━━━━━━━━\u001b[0m \u001b[32m233.6/233.6 kB\u001b[0m \u001b[31m3.6 MB/s\u001b[0m eta \u001b[36m0:00:00\u001b[0ma \u001b[36m0:00:01\u001b[0m\n",
      "Collecting requests-toolbelt>=0.4.0\n",
      "  Downloading requests_toolbelt-1.0.0-py2.py3-none-any.whl (54 kB)\n",
      "\u001b[2K     \u001b[90m━━━━━━━━━━━━━━━━━━━━━━━━━━━━━━━━━━━━━━━━\u001b[0m \u001b[32m54.5/54.5 kB\u001b[0m \u001b[31m5.9 MB/s\u001b[0m eta \u001b[36m0:00:00\u001b[0m\n",
      "Collecting colorlog>=6.8.2\n",
      "  Downloading colorlog-6.9.0-py3-none-any.whl (11 kB)\n",
      "Collecting itsdangerous>=2.0\n",
      "  Downloading itsdangerous-2.2.0-py3-none-any.whl (16 kB)\n",
      "Requirement already satisfied: typing-extensions>=4 in /usr/local/lib/python3.10/site-packages (from alembic<2.0,>=1.13.1->apache-airflow) (4.12.2)\n",
      "Collecting Mako\n",
      "  Downloading Mako-1.3.8-py3-none-any.whl (78 kB)\n",
      "\u001b[2K     \u001b[90m━━━━━━━━━━━━━━━━━━━━━━━━━━━━━━━━━━━━━━━━\u001b[0m \u001b[32m78.6/78.6 kB\u001b[0m \u001b[31m2.8 MB/s\u001b[0m eta \u001b[36m0:00:00\u001b[0m\n",
      "Collecting jmespath>=0.7.0\n",
      "  Downloading jmespath-1.0.1-py3-none-any.whl (20 kB)\n",
      "Collecting flask-login>=0.6.2\n",
      "  Downloading Flask_Login-0.6.3-py3-none-any.whl (17 kB)\n",
      "Collecting flask-appbuilder==4.5.2\n",
      "  Downloading Flask_AppBuilder-4.5.2-py3-none-any.whl (2.2 MB)\n",
      "\u001b[2K     \u001b[90m━━━━━━━━━━━━━━━━━━━━━━━━━━━━━━━━━━━━━━━━\u001b[0m \u001b[32m2.2/2.2 MB\u001b[0m \u001b[31m3.7 MB/s\u001b[0m eta \u001b[36m0:00:00\u001b[0m00:01\u001b[0m00:01\u001b[0m\n",
      "Collecting sqlalchemy-utils<1,>=0.32.21\n",
      "  Downloading SQLAlchemy_Utils-0.41.2-py3-none-any.whl (93 kB)\n",
      "\u001b[2K     \u001b[90m━━━━━━━━━━━━━━━━━━━━━━━━━━━━━━━━━━━━━━━━\u001b[0m \u001b[32m93.1/93.1 kB\u001b[0m \u001b[31m4.9 MB/s\u001b[0m eta \u001b[36m0:00:00\u001b[0m\n",
      "Collecting Flask-JWT-Extended<5.0.0,>=4.0.0\n",
      "  Downloading Flask_JWT_Extended-4.7.1-py2.py3-none-any.whl (22 kB)\n",
      "Collecting colorama<1,>=0.3.9\n",
      "  Downloading colorama-0.4.6-py2.py3-none-any.whl (25 kB)\n",
      "Collecting Flask-SQLAlchemy<3,>=2.4\n",
      "  Downloading Flask_SQLAlchemy-2.5.1-py2.py3-none-any.whl (17 kB)\n",
      "Collecting click<9,>=8\n",
      "  Downloading click-8.1.8-py3-none-any.whl (98 kB)\n",
      "\u001b[2K     \u001b[90m━━━━━━━━━━━━━━━━━━━━━━━━━━━━━━━━━━━━━━━━\u001b[0m \u001b[32m98.2/98.2 kB\u001b[0m \u001b[31m3.4 MB/s\u001b[0m eta \u001b[36m0:00:00\u001b[0m\n",
      "Collecting WTForms<4\n",
      "  Downloading wtforms-3.2.1-py3-none-any.whl (152 kB)\n",
      "\u001b[2K     \u001b[90m━━━━━━━━━━━━━━━━━━━━━━━━━━━━━━━━━━━━━━━\u001b[0m \u001b[32m152.5/152.5 kB\u001b[0m \u001b[31m3.0 MB/s\u001b[0m eta \u001b[36m0:00:00\u001b[0ma \u001b[36m0:00:01\u001b[0m\n",
      "Collecting prison<1.0.0,>=0.2.1\n",
      "  Downloading prison-0.2.1-py2.py3-none-any.whl (5.8 kB)\n",
      "Collecting email-validator>=1.0.5\n",
      "  Downloading email_validator-2.2.0-py3-none-any.whl (33 kB)\n",
      "Collecting Flask-Babel<3,>=1\n",
      "  Downloading Flask_Babel-2.0.0-py3-none-any.whl (9.3 kB)\n",
      "Collecting apispec[yaml]<7,>=6.0.0\n",
      "  Downloading apispec-6.8.1-py3-none-any.whl (30 kB)\n",
      "Collecting marshmallow<4,>=3.18.0\n",
      "  Downloading marshmallow-3.26.0-py3-none-any.whl (50 kB)\n",
      "\u001b[2K     \u001b[90m━━━━━━━━━━━━━━━━━━━━━━━━━━━━━━━━━━━━━━━━\u001b[0m \u001b[32m50.8/50.8 kB\u001b[0m \u001b[31m6.8 MB/s\u001b[0m eta \u001b[36m0:00:00\u001b[0m\n",
      "Collecting Flask-Limiter<4,>3\n",
      "  Downloading Flask_Limiter-3.10.1-py3-none-any.whl (28 kB)\n",
      "Collecting marshmallow-sqlalchemy<0.29.0,>=0.22.0\n",
      "  Downloading marshmallow_sqlalchemy-0.28.2-py2.py3-none-any.whl (16 kB)\n",
      "Collecting inflection<0.6,>=0.3.1\n",
      "  Downloading inflection-0.5.1-py2.py3-none-any.whl (9.5 kB)\n",
      "Collecting werkzeug<3,>=2.0\n",
      "  Downloading Werkzeug-2.2.3-py3-none-any.whl (233 kB)\n",
      "\u001b[2K     \u001b[90m━━━━━━━━━━━━━━━━━━━━━━━━━━━━━━━━━━━━━━━\u001b[0m \u001b[32m233.6/233.6 kB\u001b[0m \u001b[31m1.8 MB/s\u001b[0m eta \u001b[36m0:00:00\u001b[0ma \u001b[36m0:00:01\u001b[0m\n",
      "Requirement already satisfied: PyYAML<7,>=5.1 in /usr/local/lib/python3.10/site-packages (from connexion[flask]<3.0,>=2.14.2->apache-airflow) (6.0.2)\n",
      "Collecting clickclick<21,>=1.2\n",
      "  Downloading clickclick-20.10.2-py2.py3-none-any.whl (7.4 kB)\n",
      "Requirement already satisfied: pytz>2021.1 in /usr/local/lib/python3.10/site-packages (from croniter>=2.0.2->apache-airflow) (2024.2)\n",
      "Requirement already satisfied: cffi>=1.12 in /usr/local/lib/python3.10/site-packages (from cryptography>=41.0.0->apache-airflow) (1.17.1)\n",
      "Collecting wrapt<2,>=1.10\n",
      "  Downloading wrapt-1.17.2-cp310-cp310-manylinux_2_5_x86_64.manylinux1_x86_64.manylinux_2_17_x86_64.manylinux2014_x86_64.whl (82 kB)\n",
      "\u001b[2K     \u001b[90m━━━━━━━━━━━━━━━━━━━━━━━━━━━━━━━━━━━━━━━━\u001b[0m \u001b[32m82.8/82.8 kB\u001b[0m \u001b[31m5.7 MB/s\u001b[0m eta \u001b[36m0:00:00\u001b[0m\n",
      "Collecting cachelib<0.10.0,>=0.9.0\n",
      "  Downloading cachelib-0.9.0-py3-none-any.whl (15 kB)\n",
      "Requirement already satisfied: idna in /usr/local/lib/python3.10/site-packages (from httpx>=0.25.0->apache-airflow) (3.10)\n",
      "Requirement already satisfied: certifi in /usr/local/lib/python3.10/site-packages (from httpx>=0.25.0->apache-airflow) (2024.8.30)\n",
      "Requirement already satisfied: anyio in /usr/local/lib/python3.10/site-packages (from httpx>=0.25.0->apache-airflow) (4.7.0)\n",
      "Requirement already satisfied: httpcore==1.* in /usr/local/lib/python3.10/site-packages (from httpx>=0.25.0->apache-airflow) (1.0.7)\n",
      "Requirement already satisfied: h11<0.15,>=0.13 in /usr/local/lib/python3.10/site-packages (from httpcore==1.*->httpx>=0.25.0->apache-airflow) (0.14.0)\n",
      "Collecting zipp>=3.20\n",
      "  Downloading zipp-3.21.0-py3-none-any.whl (9.6 kB)\n",
      "Requirement already satisfied: jsonschema-specifications>=2023.03.6 in /usr/local/lib/python3.10/site-packages (from jsonschema>=4.18.0->apache-airflow) (2024.10.1)\n",
      "Requirement already satisfied: referencing>=0.28.4 in /usr/local/lib/python3.10/site-packages (from jsonschema>=4.18.0->apache-airflow) (0.35.1)\n",
      "Requirement already satisfied: rpds-py>=0.7.1 in /usr/local/lib/python3.10/site-packages (from jsonschema>=4.18.0->apache-airflow) (0.22.3)\n",
      "Collecting uc-micro-py\n",
      "  Downloading uc_micro_py-1.0.3-py3-none-any.whl (6.2 kB)\n",
      "Collecting mdurl~=0.1\n",
      "  Downloading mdurl-0.1.2-py3-none-any.whl (10.0 kB)\n",
      "Collecting wirerope>=0.4.7\n",
      "  Downloading wirerope-1.0.0-py2.py3-none-any.whl (9.2 kB)\n",
      "Collecting importlib_metadata>=6.5\n",
      "  Downloading importlib_metadata-8.5.0-py3-none-any.whl (26 kB)\n",
      "Collecting opentelemetry-exporter-otlp-proto-http==1.29.0\n",
      "  Downloading opentelemetry_exporter_otlp_proto_http-1.29.0-py3-none-any.whl (17 kB)\n",
      "Collecting opentelemetry-exporter-otlp-proto-grpc==1.29.0\n",
      "  Downloading opentelemetry_exporter_otlp_proto_grpc-1.29.0-py3-none-any.whl (18 kB)\n",
      "Collecting opentelemetry-sdk~=1.29.0\n",
      "  Downloading opentelemetry_sdk-1.29.0-py3-none-any.whl (118 kB)\n",
      "\u001b[2K     \u001b[90m━━━━━━━━━━━━━━━━━━━━━━━━━━━━━━━━━━━━━━━\u001b[0m \u001b[32m118.1/118.1 kB\u001b[0m \u001b[31m3.3 MB/s\u001b[0m eta \u001b[36m0:00:00\u001b[0ma \u001b[36m0:00:01\u001b[0m\n",
      "Collecting grpcio<2.0.0,>=1.63.2\n",
      "  Downloading grpcio-1.70.0-cp310-cp310-manylinux_2_17_x86_64.manylinux2014_x86_64.whl (5.9 MB)\n",
      "\u001b[2K     \u001b[90m━━━━━━━━━━━━━━━━━━━━━━━━━━━━━━━━━━━━━━━━\u001b[0m \u001b[32m5.9/5.9 MB\u001b[0m \u001b[31m3.0 MB/s\u001b[0m eta \u001b[36m0:00:00\u001b[0m00:01\u001b[0m00:01\u001b[0m\n",
      "Collecting opentelemetry-exporter-otlp-proto-common==1.29.0\n",
      "  Downloading opentelemetry_exporter_otlp_proto_common-1.29.0-py3-none-any.whl (18 kB)\n",
      "Collecting googleapis-common-protos~=1.52\n",
      "  Downloading googleapis_common_protos-1.66.0-py2.py3-none-any.whl (221 kB)\n",
      "\u001b[2K     \u001b[90m━━━━━━━━━━━━━━━━━━━━━━━━━━━━━━━━━━━━━━━\u001b[0m \u001b[32m221.7/221.7 kB\u001b[0m \u001b[31m3.3 MB/s\u001b[0m eta \u001b[36m0:00:00\u001b[0ma \u001b[36m0:00:01\u001b[0m\n",
      "Collecting opentelemetry-proto==1.29.0\n",
      "  Downloading opentelemetry_proto-1.29.0-py3-none-any.whl (55 kB)\n",
      "\u001b[2K     \u001b[90m━━━━━━━━━━━━━━━━━━━━━━━━━━━━━━━━━━━━━━━━\u001b[0m \u001b[32m55.8/55.8 kB\u001b[0m \u001b[31m1.8 MB/s\u001b[0m eta \u001b[36m0:00:00\u001b[0m\n",
      "Collecting protobuf<6.0,>=5.0\n",
      "  Downloading protobuf-5.29.3-cp38-abi3-manylinux2014_x86_64.whl (319 kB)\n",
      "\u001b[2K     \u001b[90m━━━━━━━━━━━━━━━━━━━━━━━━━━━━━━━━━━━━━━━\u001b[0m \u001b[32m319.7/319.7 kB\u001b[0m \u001b[31m2.4 MB/s\u001b[0m eta \u001b[36m0:00:00\u001b[0ma \u001b[36m0:00:01\u001b[0m\n",
      "\u001b[?25hRequirement already satisfied: tzdata>=2020.1 in /usr/local/lib/python3.10/site-packages (from pendulum<4.0,>=2.1.2->apache-airflow) (2024.2)\n",
      "Collecting time-machine>=2.6.0\n",
      "  Downloading time_machine-2.16.0-cp310-cp310-manylinux_2_5_x86_64.manylinux1_x86_64.manylinux_2_17_x86_64.manylinux2014_x86_64.whl (34 kB)\n",
      "Requirement already satisfied: six>=1.5 in /usr/local/lib/python3.10/site-packages (from python-dateutil>=2.7.0->apache-airflow) (1.17.0)\n",
      "Collecting text-unidecode>=1.3\n",
      "  Downloading text_unidecode-1.3-py2.py3-none-any.whl (78 kB)\n",
      "\u001b[2K     \u001b[90m━━━━━━━━━━━━━━━━━━━━━━━━━━━━━━━━━━━━━━━━\u001b[0m \u001b[32m78.2/78.2 kB\u001b[0m \u001b[31m2.6 MB/s\u001b[0m eta \u001b[36m0:00:00\u001b[0m\n",
      "\u001b[?25hRequirement already satisfied: charset-normalizer<4,>=2 in /usr/local/lib/python3.10/site-packages (from requests<3,>=2.27.0->apache-airflow) (3.4.0)\n",
      "Requirement already satisfied: urllib3<3,>=1.21.1 in /usr/local/lib/python3.10/site-packages (from requests<3,>=2.27.0->apache-airflow) (2.2.3)\n",
      "Requirement already satisfied: greenlet!=0.4.17 in /usr/local/lib/python3.10/site-packages (from sqlalchemy<2.0,>=1.4.36->apache-airflow) (3.1.1)\n",
      "Collecting sqlparse>=0.5.1\n",
      "  Downloading sqlparse-0.5.3-py3-none-any.whl (44 kB)\n",
      "\u001b[2K     \u001b[90m━━━━━━━━━━━━━━━━━━━━━━━━━━━━━━━━━━━━━━━━\u001b[0m \u001b[32m44.4/44.4 kB\u001b[0m \u001b[31m1.3 MB/s\u001b[0m eta \u001b[36m0:00:00\u001b[0m\n",
      "Collecting more-itertools>=9.0.0\n",
      "  Downloading more_itertools-10.6.0-py3-none-any.whl (63 kB)\n",
      "\u001b[2K     \u001b[90m━━━━━━━━━━━━━━━━━━━━━━━━━━━━━━━━━━━━━━━━\u001b[0m \u001b[32m63.0/63.0 kB\u001b[0m \u001b[31m3.1 MB/s\u001b[0m eta \u001b[36m0:00:00\u001b[0m\n",
      "Collecting aiohttp!=3.11.0,>=3.9.2\n",
      "  Downloading aiohttp-3.11.11-cp310-cp310-manylinux_2_17_x86_64.manylinux2014_x86_64.whl (1.6 MB)\n",
      "\u001b[2K     \u001b[90m━━━━━━━━━━━━━━━━━━━━━━━━━━━━━━━━━━━━━━━━\u001b[0m \u001b[32m1.6/1.6 MB\u001b[0m \u001b[31m2.8 MB/s\u001b[0m eta \u001b[36m0:00:00\u001b[0m00:01\u001b[0m00:01\u001b[0m\n",
      "Collecting aiosqlite>=0.20.0\n",
      "  Downloading aiosqlite-0.20.0-py3-none-any.whl (15 kB)\n",
      "Collecting aiosignal>=1.1.2\n",
      "  Downloading aiosignal-1.3.2-py2.py3-none-any.whl (7.6 kB)\n",
      "Collecting async-timeout<6.0,>=4.0\n",
      "  Downloading async_timeout-5.0.1-py3-none-any.whl (6.2 kB)\n",
      "Collecting propcache>=0.2.0\n",
      "  Downloading propcache-0.2.1-cp310-cp310-manylinux_2_17_x86_64.manylinux2014_x86_64.whl (205 kB)\n",
      "\u001b[2K     \u001b[90m━━━━━━━━━━━━━━━━━━━━━━━━━━━━━━━━━━━━━━━\u001b[0m \u001b[32m205.1/205.1 kB\u001b[0m \u001b[31m3.0 MB/s\u001b[0m eta \u001b[36m0:00:00\u001b[0ma \u001b[36m0:00:01\u001b[0m\n",
      "Collecting multidict<7.0,>=4.5\n",
      "  Downloading multidict-6.1.0-cp310-cp310-manylinux_2_17_x86_64.manylinux2014_x86_64.whl (124 kB)\n",
      "\u001b[2K     \u001b[90m━━━━━━━━━━━━━━━━━━━━━━━━━━━━━━━━━━━━━━━\u001b[0m \u001b[32m124.6/124.6 kB\u001b[0m \u001b[31m3.1 MB/s\u001b[0m eta \u001b[36m0:00:00\u001b[0m00:01\u001b[0m\n",
      "Collecting frozenlist>=1.1.1\n",
      "  Downloading frozenlist-1.5.0-cp310-cp310-manylinux_2_5_x86_64.manylinux1_x86_64.manylinux_2_17_x86_64.manylinux2014_x86_64.whl (241 kB)\n",
      "\u001b[2K     \u001b[90m━━━━━━━━━━━━━━━━━━━━━━━━━━━━━━━━━━━━━━━\u001b[0m \u001b[32m241.9/241.9 kB\u001b[0m \u001b[31m3.2 MB/s\u001b[0m eta \u001b[36m0:00:00\u001b[0ma \u001b[36m0:00:01\u001b[0m\n",
      "Collecting aiohappyeyeballs>=2.3.0\n",
      "  Downloading aiohappyeyeballs-2.4.4-py3-none-any.whl (14 kB)\n",
      "Collecting yarl<2.0,>=1.17.0\n",
      "  Downloading yarl-1.18.3-cp310-cp310-manylinux_2_17_x86_64.manylinux2014_x86_64.whl (319 kB)\n",
      "\u001b[2K     \u001b[90m━━━━━━━━━━━━━━━━━━━━━━━━━━━━━━━━━━━━━━━\u001b[0m \u001b[32m319.7/319.7 kB\u001b[0m \u001b[31m3.0 MB/s\u001b[0m eta \u001b[36m0:00:00\u001b[0ma \u001b[36m0:00:01\u001b[0m\n",
      "Requirement already satisfied: pycparser in /usr/local/lib/python3.10/site-packages (from cffi>=1.12->cryptography>=41.0.0->apache-airflow) (2.22)\n",
      "Requirement already satisfied: sniffio>=1.1 in /usr/local/lib/python3.10/site-packages (from anyio->httpx>=0.25.0->apache-airflow) (1.3.1)\n",
      "Requirement already satisfied: exceptiongroup>=1.0.2 in /usr/local/lib/python3.10/site-packages (from anyio->httpx>=0.25.0->apache-airflow) (1.2.2)\n",
      "Collecting dnspython>=2.0.0\n",
      "  Downloading dnspython-2.7.0-py3-none-any.whl (313 kB)\n",
      "\u001b[2K     \u001b[90m━━━━━━━━━━━━━━━━━━━━━━━━━━━━━━━━━━━━━━━\u001b[0m \u001b[32m313.6/313.6 kB\u001b[0m \u001b[31m3.3 MB/s\u001b[0m eta \u001b[36m0:00:00\u001b[0ma \u001b[36m0:00:01\u001b[0m\n",
      "Requirement already satisfied: Babel>=2.3 in /usr/local/lib/python3.10/site-packages (from Flask-Babel<3,>=1->flask-appbuilder==4.5.2->apache-airflow-providers-fab>=1.0.2->apache-airflow) (2.16.0)\n",
      "Collecting ordered-set<5,>4\n",
      "  Downloading ordered_set-4.1.0-py3-none-any.whl (7.6 kB)\n",
      "Collecting limits>=3.13\n",
      "  Downloading limits-4.0.1-py3-none-any.whl (45 kB)\n",
      "\u001b[2K     \u001b[90m━━━━━━━━━━━━━━━━━━━━━━━━━━━━━━━━━━━━━━━━\u001b[0m \u001b[32m45.8/45.8 kB\u001b[0m \u001b[31m2.7 MB/s\u001b[0m eta \u001b[36m0:00:00\u001b[0m\n",
      "Collecting opentelemetry-semantic-conventions==0.50b0\n",
      "  Downloading opentelemetry_semantic_conventions-0.50b0-py3-none-any.whl (166 kB)\n",
      "\u001b[2K     \u001b[90m━━━━━━━━━━━━━━━━━━━━━━━━━━━━━━━━━━━━━━━\u001b[0m \u001b[32m166.6/166.6 kB\u001b[0m \u001b[31m2.8 MB/s\u001b[0m eta \u001b[36m0:00:00\u001b[0ma \u001b[36m0:00:01\u001b[0m\n",
      "Building wheels for collected packages: python-nvd3\n",
      "  Building wheel for python-nvd3 (setup.py) ... \u001b[?25done\n",
      "\u001b[?25h  Created wheel for python-nvd3: filename=python_nvd3-0.16.0-py3-none-any.whl size=37571 sha256=5d60f8d3443c1786b3951d086844c4ce4757c778654de73482963a0b7882d54f\n",
      "  Stored in directory: /root/.cache/pip/wheels/1c/8b/d8/965c9856f31091a195a0e960b0edba176f326749b56cd7b875\n",
      "Successfully built python-nvd3\n",
      "Installing collected packages: text-unidecode, lockfile, cron-descriptor, zipp, WTForms, wrapt, wirerope, werkzeug, uc-micro-py, termcolor, tenacity, tabulate, sqlparse, sqlalchemy, setproctitle, python-slugify, python-daemon, pyjwt, protobuf, propcache, prison, pluggy, pathspec, ordered-set, multidict, more-itertools, mdurl, marshmallow, Mako, lazy-object-proxy, jmespath, itsdangerous, inflection, gunicorn, grpcio, google-re2, fsspec, frozenlist, dnspython, dill, configupdater, colorlog, colorama, click, cachelib, blinker, async-timeout, asgiref, argcomplete, apispec, aiosqlite, aiohappyeyeballs, yarl, universal-pathlib, time-machine, sqlalchemy-utils, sqlalchemy-jsonfield, requests-toolbelt, python-nvd3, opentelemetry-proto, methodtools, marshmallow-sqlalchemy, marshmallow-oneofschema, markdown-it-py, linkify-it-py, importlib_metadata, googleapis-common-protos, flask, email-validator, deprecated, cryptography, croniter, clickclick, alembic, aiosignal, rich, pendulum, opentelemetry-exporter-otlp-proto-common, opentelemetry-api, mdit-py-plugins, limits, flask-wtf, Flask-SQLAlchemy, flask-session, flask-login, Flask-JWT-Extended, flask-caching, Flask-Babel, aiohttp, rich-argparse, opentelemetry-semantic-conventions, Flask-Limiter, connexion, opentelemetry-sdk, flask-appbuilder, opentelemetry-exporter-otlp-proto-http, opentelemetry-exporter-otlp-proto-grpc, opentelemetry-exporter-otlp, apache-airflow-providers-common-sql, apache-airflow-providers-common-compat, apache-airflow-providers-sqlite, apache-airflow-providers-smtp, apache-airflow-providers-imap, apache-airflow-providers-http, apache-airflow-providers-ftp, apache-airflow-providers-fab, apache-airflow-providers-common-io, apache-airflow\n",
      "  Attempting uninstall: sqlalchemy\n",
      "    Found existing installation: SQLAlchemy 2.0.37\n",
      "    Uninstalling SQLAlchemy-2.0.37:\n",
      "      Successfully uninstalled SQLAlchemy-2.0.37\n",
      "Successfully installed Flask-Babel-2.0.0 Flask-JWT-Extended-4.7.1 Flask-Limiter-3.10.1 Flask-SQLAlchemy-2.5.1 Mako-1.3.8 WTForms-3.2.1 aiohappyeyeballs-2.4.4 aiohttp-3.11.11 aiosignal-1.3.2 aiosqlite-0.20.0 alembic-1.14.1 apache-airflow-2.10.4 apache-airflow-providers-common-compat-1.3.0 apache-airflow-providers-common-io-1.5.0 apache-airflow-providers-common-sql-1.21.0 apache-airflow-providers-fab-1.5.2 apache-airflow-providers-ftp-3.12.0 apache-airflow-providers-http-5.0.0 apache-airflow-providers-imap-3.8.0 apache-airflow-providers-smtp-1.9.0 apache-airflow-providers-sqlite-4.0.0 apispec-6.8.1 argcomplete-3.5.3 asgiref-3.8.1 async-timeout-5.0.1 blinker-1.9.0 cachelib-0.9.0 click-8.1.8 clickclick-20.10.2 colorama-0.4.6 colorlog-6.9.0 configupdater-3.2 connexion-2.14.2 cron-descriptor-1.4.5 croniter-6.0.0 cryptography-44.0.0 deprecated-1.2.18 dill-0.3.9 dnspython-2.7.0 email-validator-2.2.0 flask-2.2.5 flask-appbuilder-4.5.2 flask-caching-2.3.0 flask-login-0.6.3 flask-session-0.5.0 flask-wtf-1.2.2 frozenlist-1.5.0 fsspec-2024.12.0 google-re2-1.1.20240702 googleapis-common-protos-1.66.0 grpcio-1.70.0 gunicorn-23.0.0 importlib_metadata-8.5.0 inflection-0.5.1 itsdangerous-2.2.0 jmespath-1.0.1 lazy-object-proxy-1.10.0 limits-4.0.1 linkify-it-py-2.0.3 lockfile-0.12.2 markdown-it-py-3.0.0 marshmallow-3.26.0 marshmallow-oneofschema-3.1.1 marshmallow-sqlalchemy-0.28.2 mdit-py-plugins-0.4.2 mdurl-0.1.2 methodtools-0.4.7 more-itertools-10.6.0 multidict-6.1.0 opentelemetry-api-1.29.0 opentelemetry-exporter-otlp-1.29.0 opentelemetry-exporter-otlp-proto-common-1.29.0 opentelemetry-exporter-otlp-proto-grpc-1.29.0 opentelemetry-exporter-otlp-proto-http-1.29.0 opentelemetry-proto-1.29.0 opentelemetry-sdk-1.29.0 opentelemetry-semantic-conventions-0.50b0 ordered-set-4.1.0 pathspec-0.12.1 pendulum-3.0.0 pluggy-1.5.0 prison-0.2.1 propcache-0.2.1 protobuf-5.29.3 pyjwt-2.10.1 python-daemon-3.1.2 python-nvd3-0.16.0 python-slugify-8.0.4 requests-toolbelt-1.0.0 rich-13.9.4 rich-argparse-1.6.0 setproctitle-1.3.4 sqlalchemy-1.4.54 sqlalchemy-jsonfield-1.0.2 sqlalchemy-utils-0.41.2 sqlparse-0.5.3 tabulate-0.9.0 tenacity-9.0.0 termcolor-2.5.0 text-unidecode-1.3 time-machine-2.16.0 uc-micro-py-1.0.3 universal-pathlib-0.2.6 werkzeug-2.2.3 wirerope-1.0.0 wrapt-1.17.2 yarl-1.18.3 zipp-3.21.0\n",
      "\u001b[33mWARNING: Running pip as the 'root' user can result in broken permissions and conflicting behaviour with the system package manager. It is recommended to use a virtual environment instead: https://pip.pypa.io/warnings/venv\u001b[0m\u001b[33m\n",
      "\u001b[0m\n",
      "\u001b[1m[\u001b[0m\u001b[34;49mnotice\u001b[0m\u001b[1;39;49m]\u001b[0m\u001b[39;49m A new release of pip is available: \u001b[0m\u001b[31;49m23.0.1\u001b[0m\u001b[39;49m -> \u001b[0m\u001b[32;49m25.0\u001b[0m\n",
      "\u001b[1m[\u001b[0m\u001b[34;49mnotice\u001b[0m\u001b[1;39;49m]\u001b[0m\u001b[39;49m To update, run: \u001b[0m\u001b[32;49mpip install --upgrade pip\u001b[0m\n",
      "Note: you may need to restart the kernel to use updated packages.\n"
     ]
    }
   ],
   "source": [
    "pip install apache-airflow\n"
   ]
  },
  {
   "cell_type": "code",
   "execution_count": 55,
   "id": "68b3e389",
   "metadata": {},
   "outputs": [],
   "source": [
    "# Task 1: Load accessories file into PostgreSQL\n",
    "task_id='load_to_db_accessories',\n",
    "python_callable=load_to_db,\n",
    "op_kwargs={\n",
    "    'hdfs_path': 'hdfs://namenode-master/accessories.parquet',\n",
    "    'cleaned_table': 'accessories_table',  # Target table for accessories\n",
    "    'postgres_opt': {\n",
    "        'user': 'root',\n",
    "        'password': 'root',\n",
    "        'host': 'pgdatabase',\n",
    "        'port': 5432,\n",
    "        'db': 'data_engineering'\n",
    "    }\n",
    "}\n",
    "\n",
    "# Task 2: Load shoes file into PostgreSQL\n",
    "task_id='load_to_db_shoes',\n",
    "python_callable=load_to_db,\n",
    "op_kwargs={\n",
    "    'hdfs_path': 'hdfs://namenode-master/shoes.parquet',\n",
    "    'cleaned_table': 'shoes_table',  # Target table for shoes\n",
    "    'postgres_opt': {\n",
    "        'user': 'root',\n",
    "        'password': 'root',\n",
    "        'host': 'pgdatabase',\n",
    "        'port': 5432,\n",
    "        'db': 'data_engineering'\n",
    "    }\n",
    "}\n",
    "\n",
    "# Task 3: Load jewelry file into PostgreSQL\n",
    "task_id='load_to_db_jewelry',\n",
    "python_callable=load_to_db,\n",
    "op_kwargs={\n",
    "    'hdfs_path': 'hdfs://namenode-master/jewelry.parquet',\n",
    "    'cleaned_table': 'jewelry_table',  # Target table for jewelry\n",
    "    'postgres_opt': {\n",
    "        'user': 'root',\n",
    "        'password': 'root',\n",
    "        'host': 'pgdatabase',\n",
    "        'port': 5432,\n",
    "        'db': 'data_engineering'\n",
    "    }\n",
    "}\n"
   ]
  },
  {
   "cell_type": "markdown",
   "id": "YM2vCyjE5P5O",
   "metadata": {
    "id": "YM2vCyjE5P5O"
   },
   "source": [
    "## Now read each table as a dataframe and just print the schema of each one."
   ]
  },
  {
   "cell_type": "code",
   "execution_count": null,
   "id": "k9_-O7nI5P5O",
   "metadata": {
    "id": "k9_-O7nI5P5O"
   },
   "outputs": [],
   "source": []
  },
  {
   "cell_type": "code",
   "execution_count": null,
   "id": "7ea72a2c-04c4-490c-9299-3c0aeeaf9404",
   "metadata": {},
   "outputs": [],
   "source": []
  }
 ],
 "metadata": {
  "colab": {
   "provenance": []
  },
  "kernelspec": {
   "display_name": "Python 3 (ipykernel)",
   "language": "python",
   "name": "python3"
  },
  "language_info": {
   "codemirror_mode": {
    "name": "ipython",
    "version": 3
   },
   "file_extension": ".py",
   "mimetype": "text/x-python",
   "name": "python",
   "nbconvert_exporter": "python",
   "pygments_lexer": "ipython3",
   "version": "3.10.16"
  },
  "toc": {
   "base_numbering": 1,
   "nav_menu": {},
   "number_sections": true,
   "sideBar": true,
   "skip_h1_title": false,
   "title_cell": "Table of Contents",
   "title_sidebar": "Contents",
   "toc_cell": false,
   "toc_position": {},
   "toc_section_display": true,
   "toc_window_display": false
  }
 },
 "nbformat": 4,
 "nbformat_minor": 5
}
